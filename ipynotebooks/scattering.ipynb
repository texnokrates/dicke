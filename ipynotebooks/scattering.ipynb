{
 "cells": [
  {
   "cell_type": "code",
   "execution_count": 92,
   "metadata": {
    "collapsed": true
   },
   "outputs": [],
   "source": [
    "import numpy as np\n",
    "from sklearn.preprocessing import normalize\n",
    "from scipy.constants import epsilon_0 as ε_0, c, pi as π, e, hbar as ℏ\n",
    "eV = e\n",
    "from scipy.special import lpmn, sph_jn\n",
    "\n",
    "I = np.identity(3)"
   ]
  },
  {
   "cell_type": "markdown",
   "metadata": {},
   "source": [
    "## Green's functions\n",
    "All vectors are expected to be in cartesian coordinates. Arguments and return values are in form of arrays (\"lists\") to enable fast batch processing.\n",
    "### Free space"
   ]
  },
  {
   "cell_type": "code",
   "execution_count": 23,
   "metadata": {
    "collapsed": false
   },
   "outputs": [],
   "source": [
    "# Transverse delta; invalit at r1 = r2\n",
    "def δ_T(r1, r2):\n",
    "    print(\"Not implemented\")\n",
    "    return\n",
    "\n",
    "# Longitudinal delta; invalid at r1 = r2\n",
    "def δ_L(r1, r2):\n",
    "    print(\"Not implemented\")\n",
    "    return\n",
    "\n",
    "def G_fs(r1, r2, ω):\n",
    "    r12 = np.linalg.norm((r1-r2), axis=1)\n",
    "    g = np.exp(1j * r12 * ω/c) / (4*π*r12)\n",
    "    return np.outer(g, I)    \n",
    "\n",
    "def K_fs(r1, r2, ω):\n",
    "    print(\"Not implemented\")\n",
    "    return"
   ]
  },
  {
   "cell_type": "markdown",
   "metadata": {},
   "source": [
    "### Spherical particle (Mie solution)\n",
    "TODO"
   ]
  },
  {
   "cell_type": "code",
   "execution_count": 33,
   "metadata": {
    "collapsed": true
   },
   "outputs": [],
   "source": [
    "# r[:,0] = x = r sin θ cos φ\n",
    "# r[:,1] = y = r sin θ sin φ\n",
    "# r[:,2] = z = r cos θ\n",
    "def spherical_vector_waves(nmax, k, r):\n",
    "    # k is array of scalars, r is array of vectors\n",
    "    ρ = np.linalg.norm(r, axis=-1)\n",
    "    r̂ = r/ρ[:,np.newaxis]\n",
    "    cosθ = r̂[:,2]\n",
    "    sinθ = np.sqrt(1-cosθ*cosθ)\n",
    "    cosφ = r̂[:,0]/sinθ\n",
    "    sinφ = r̂[:,1]/sinθ\n",
    "    φ = np.arctan2(sinφ/cosφ)\n",
    "    θ̂ = np.concatenate((cosθ*cosφ,cosθ*sinφ,-sinθ),axis=-1)\n",
    "    φ̂ = np.concatenate((-sinφ, cosφ, 0), axis=-1)\n",
    "    jnkr2 = sph_jn(nmax, k*r)\n",
    "    # scipy.special.lpmn is for real arguments (see also clpmn)\n",
    "    # + derivatives\n",
    "    # m's are only positive, cf. Bohren&Huffman (4.23)\n",
    "    Pmn2 = lpmn(nmax, nmax, cosθ)\n",
    "    Memn=-(m/sinθ) * jnkr2[0][np.newaxis,:] * Pmn2[0] * sin\n",
    "    \n",
    "    \n",
    "    #sph_jn(5,0.5)[0][np.newaxis,:]+1j*lpmn(5,5,0.01)[0]\n",
    "    \n",
    "    \n",
    "    "
   ]
  },
  {
   "cell_type": "code",
   "execution_count": null,
   "metadata": {
    "collapsed": true
   },
   "outputs": [],
   "source": []
  },
  {
   "cell_type": "markdown",
   "metadata": {},
   "source": [
    "## T-matrix"
   ]
  },
  {
   "cell_type": "code",
   "execution_count": null,
   "metadata": {
    "collapsed": true
   },
   "outputs": [],
   "source": [
    "\n",
    "\n",
    "def M(G, ω, R, μ): # as in PRA 70, 053823, eq. (37)\n",
    "    #M = eye(N)\n",
    "    \n",
    "    "
   ]
  },
  {
   "cell_type": "markdown",
   "metadata": {},
   "source": [
    "# Examples"
   ]
  },
  {
   "cell_type": "code",
   "execution_count": null,
   "metadata": {
    "collapsed": true
   },
   "outputs": [],
   "source": []
  },
  {
   "cell_type": "markdown",
   "metadata": {},
   "source": [
    "# Playground"
   ]
  },
  {
   "cell_type": "code",
   "execution_count": 19,
   "metadata": {
    "collapsed": false
   },
   "outputs": [
    {
     "data": {
      "text/plain": [
       "array([[ 0.03302973+0.04555572j,  0.00000000+0.j        ,\n",
       "         0.00000000+0.j        ,  0.00000000+0.j        ,\n",
       "         0.03302973+0.04555572j,  0.00000000+0.j        ,\n",
       "         0.00000000+0.j        ,  0.00000000+0.j        ,\n",
       "         0.03302973+0.04555572j],\n",
       "       [-0.01107202+0.02410456j, -0.00000000+0.j        ,\n",
       "        -0.00000000+0.j        , -0.00000000+0.j        ,\n",
       "        -0.01107202+0.02410456j, -0.00000000+0.j        ,\n",
       "        -0.00000000+0.j        , -0.00000000+0.j        ,\n",
       "        -0.01107202+0.02410456j]])"
      ]
     },
     "execution_count": 19,
     "metadata": {},
     "output_type": "execute_result"
    }
   ],
   "source": [
    "r = np.array([[1,0,0],[2,2,2]])\n",
    "R = np.array([[0,1,0],[0,1,4]])\n",
    "np.linalg.norm((r-R), axis=1)\n",
    "G_fs(r, R, 2e8)"
   ]
  },
  {
   "cell_type": "code",
   "execution_count": 25,
   "metadata": {
    "collapsed": false
   },
   "outputs": [
    {
     "data": {
      "text/plain": [
       "array([ 3, 65])"
      ]
     },
     "execution_count": 25,
     "metadata": {},
     "output_type": "execute_result"
    }
   ],
   "source": [
    "r = np.array([[1,2,3],[4,5,65]])\n",
    "r[:,2]"
   ]
  },
  {
   "cell_type": "code",
   "execution_count": null,
   "metadata": {
    "collapsed": true
   },
   "outputs": [],
   "source": [
    "ρ = np.linalg.norm(r, axis=1)\n",
    "cosθ = r[:,2]/ρ"
   ]
  },
  {
   "cell_type": "code",
   "execution_count": null,
   "metadata": {
    "collapsed": false
   },
   "outputs": [],
   "source": [
    "cosθ = r[:,2]/ρ\n",
    "\n",
    "sinθ = np.sqrt(1-cosθ)\n",
    "sinθ "
   ]
  },
  {
   "cell_type": "code",
   "execution_count": 34,
   "metadata": {
    "collapsed": false
   },
   "outputs": [
    {
     "name": "stderr",
     "output_type": "stream",
     "text": [
      "/home/necadam1/.local/lib/python3.4/site-packages/sklearn/utils/validation.py:498: UserWarning: The normalize function assumes floating point values as input, got int64\n",
      "  \"got %s\" % (estimator, X.dtype))\n",
      "/home/necadam1/.local/lib/python3.4/site-packages/sklearn/utils/extmath.py:71: DeprecationWarning: Implicitly casting between incompatible kinds. In a future numpy release, this will raise an error. Use casting=\"unsafe\" if this is intentional.\n",
      "  np.sqrt(norms, norms)\n",
      "/home/necadam1/.local/lib/python3.4/site-packages/sklearn/preprocessing/data.py:619: DeprecationWarning: Implicitly casting between incompatible kinds. In a future numpy release, this will raise an error. Use casting=\"unsafe\" if this is intentional.\n",
      "  X /= norms[:, np.newaxis]\n"
     ]
    }
   ],
   "source": [
    "r̂ = normalize(r, axis=1)"
   ]
  },
  {
   "cell_type": "code",
   "execution_count": 35,
   "metadata": {
    "collapsed": false
   },
   "outputs": [
    {
     "data": {
      "text/plain": [
       "array([[0, 0, 1],\n",
       "       [0, 0, 1]])"
      ]
     },
     "execution_count": 35,
     "metadata": {},
     "output_type": "execute_result"
    }
   ],
   "source": [
    "r̂"
   ]
  },
  {
   "cell_type": "code",
   "execution_count": 36,
   "metadata": {
    "collapsed": false
   },
   "outputs": [
    {
     "data": {
      "text/plain": [
       "array([[ 1,  2,  3],\n",
       "       [ 4,  5, 65]])"
      ]
     },
     "execution_count": 36,
     "metadata": {},
     "output_type": "execute_result"
    }
   ],
   "source": [
    "r"
   ]
  },
  {
   "cell_type": "code",
   "execution_count": 38,
   "metadata": {
    "collapsed": false
   },
   "outputs": [
    {
     "name": "stderr",
     "output_type": "stream",
     "text": [
      "/home/necadam1/.local/lib/python3.4/site-packages/sklearn/utils/extmath.py:71: DeprecationWarning: Implicitly casting between incompatible kinds. In a future numpy release, this will raise an error. Use casting=\"unsafe\" if this is intentional.\n",
      "  np.sqrt(norms, norms)\n",
      "/home/necadam1/.local/lib/python3.4/site-packages/sklearn/preprocessing/data.py:619: DeprecationWarning: Implicitly casting between incompatible kinds. In a future numpy release, this will raise an error. Use casting=\"unsafe\" if this is intentional.\n",
      "  X /= norms[:, np.newaxis]\n"
     ]
    },
    {
     "data": {
      "text/plain": [
       "array([[0, 0, 0],\n",
       "       [1, 1, 1]])"
      ]
     },
     "execution_count": 38,
     "metadata": {},
     "output_type": "execute_result"
    }
   ],
   "source": [
    " normalize(r, axis=0)"
   ]
  },
  {
   "cell_type": "code",
   "execution_count": 41,
   "metadata": {
    "collapsed": false
   },
   "outputs": [],
   "source": [
    "r̂ = r/ρ[:,np.newaxis]"
   ]
  },
  {
   "cell_type": "code",
   "execution_count": 42,
   "metadata": {
    "collapsed": false
   },
   "outputs": [
    {
     "data": {
      "text/plain": [
       "array([[ 0.26726124,  0.53452248,  0.80178373],\n",
       "       [ 0.06124203,  0.07655254,  0.99518296]])"
      ]
     },
     "execution_count": 42,
     "metadata": {},
     "output_type": "execute_result"
    }
   ],
   "source": [
    "r̂ "
   ]
  },
  {
   "cell_type": "code",
   "execution_count": 53,
   "metadata": {
    "collapsed": false
   },
   "outputs": [
    {
     "data": {
      "text/plain": [
       "array([ 1. ,  1. ,  0.1])"
      ]
     },
     "execution_count": 53,
     "metadata": {},
     "output_type": "execute_result"
    }
   ],
   "source": [
    "lpmv(0, np.array([-1,0,1]),np.array([0.2,0.5,0.1]))"
   ]
  },
  {
   "cell_type": "code",
   "execution_count": 61,
   "metadata": {
    "collapsed": false
   },
   "outputs": [
    {
     "data": {
      "text/plain": [
       "(array([[  1.00000000e+00,   3.00000000e-01,  -3.65000000e-01,\n",
       "          -3.82500000e-01,   7.29375000e-02,   3.45386250e-01],\n",
       "        [  0.00000000e+00,  -9.53939201e-01,  -8.58545281e-01,\n",
       "           7.86999841e-01,   1.69562693e+00,   1.60798377e-01],\n",
       "        [  0.00000000e+00,   0.00000000e+00,   2.73000000e+00,\n",
       "           4.09500000e+00,  -2.52525000e+00,  -1.04627250e+01],\n",
       "        [  0.00000000e+00,   0.00000000e+00,   0.00000000e+00,\n",
       "          -1.30212701e+01,  -2.73446672e+01,   8.65914462e+00],\n",
       "        [  0.00000000e+00,   0.00000000e+00,   0.00000000e+00,\n",
       "           0.00000000e+00,   8.69505000e+01,   2.34766350e+02]]),\n",
       " array([[  0.00000000e+00,   1.00000000e+00,   9.00000000e-01,\n",
       "          -8.25000000e-01,  -1.77750000e+00,  -1.68562500e-01],\n",
       "        [  0.00000000e+00,   3.14485451e-01,  -2.57878070e+00,\n",
       "          -4.55217690e+00,   2.08818339e+00,   1.09149055e+01],\n",
       "        [  0.00000000e+00,   0.00000000e+00,  -1.80000000e+00,\n",
       "           1.09500000e+01,   3.03300000e+01,  -2.17875000e+00],\n",
       "        [  0.00000000e+00,   0.00000000e+00,   0.00000000e+00,\n",
       "           1.28781792e+01,  -6.41047143e+01,  -2.54665994e+02],\n",
       "        [  0.00000000e+00,   0.00000000e+00,   0.00000000e+00,\n",
       "           0.00000000e+00,  -1.14660000e+02,   4.72972500e+02]]))"
      ]
     },
     "execution_count": 61,
     "metadata": {},
     "output_type": "execute_result"
    }
   ],
   "source": [
    "lpmn(4,5,0.3)"
   ]
  },
  {
   "cell_type": "code",
   "execution_count": 69,
   "metadata": {
    "collapsed": false
   },
   "outputs": [],
   "source": [
    "lpmv(1,1,0.3)\n",
    "import scipy.special as ss\n"
   ]
  },
  {
   "cell_type": "code",
   "execution_count": 71,
   "metadata": {
    "collapsed": false
   },
   "outputs": [
    {
     "data": {
      "text/plain": [
       "-10.342894408723325"
      ]
     },
     "execution_count": 71,
     "metadata": {},
     "output_type": "execute_result"
    }
   ],
   "source": [
    "ss.lpmv(3,4,0.1)"
   ]
  },
  {
   "cell_type": "code",
   "execution_count": 72,
   "metadata": {
    "collapsed": false
   },
   "outputs": [
    {
     "data": {
      "text/plain": [
       "0.1252678976534484"
      ]
     },
     "execution_count": 72,
     "metadata": {},
     "output_type": "execute_result"
    }
   ],
   "source": [
    "lpmv(0, 40, 0.001)"
   ]
  },
  {
   "cell_type": "code",
   "execution_count": 75,
   "metadata": {
    "collapsed": false
   },
   "outputs": [
    {
     "data": {
      "text/plain": [
       "poly1d([ 1.])"
      ]
     },
     "execution_count": 75,
     "metadata": {},
     "output_type": "execute_result"
    }
   ],
   "source": [
    "ss.legendre(0)"
   ]
  },
  {
   "cell_type": "code",
   "execution_count": 81,
   "metadata": {
    "collapsed": false
   },
   "outputs": [],
   "source": [
    "a = ss.lpmn(5,5,0.001)"
   ]
  },
  {
   "cell_type": "code",
   "execution_count": 82,
   "metadata": {
    "collapsed": false
   },
   "outputs": [
    {
     "data": {
      "text/plain": [
       "(6, 6)"
      ]
     },
     "execution_count": 82,
     "metadata": {},
     "output_type": "execute_result"
    }
   ],
   "source": [
    "a[0].shape"
   ]
  },
  {
   "cell_type": "code",
   "execution_count": 83,
   "metadata": {
    "collapsed": false
   },
   "outputs": [
    {
     "data": {
      "text/plain": [
       "(6, 6)"
      ]
     },
     "execution_count": 83,
     "metadata": {},
     "output_type": "execute_result"
    }
   ],
   "source": [
    "a[1].shape"
   ]
  },
  {
   "cell_type": "code",
   "execution_count": 85,
   "metadata": {
    "collapsed": false
   },
   "outputs": [
    {
     "data": {
      "text/plain": [
       "(array([[  1.00000000e+00,   1.00000000e-03,  -4.99998500e-01,\n",
       "          -1.49999750e-03,   3.74996250e-01,   1.87499125e-03],\n",
       "        [  0.00000000e+00,  -9.99999500e-01,  -2.99999850e-03,\n",
       "           1.49999175e+00,   7.49997875e-03,  -1.87497281e+00],\n",
       "        [  0.00000000e+00,   0.00000000e+00,   2.99999700e+00,\n",
       "           1.49999850e-02,  -7.49994000e+00,  -5.24997900e-02],\n",
       "        [  0.00000000e+00,   0.00000000e+00,   0.00000000e+00,\n",
       "          -1.49999775e+01,  -1.04999843e-01,   5.24994488e+01],\n",
       "        [  0.00000000e+00,   0.00000000e+00,   0.00000000e+00,\n",
       "           0.00000000e+00,   1.04999790e+02,   9.44998110e-01],\n",
       "        [  0.00000000e+00,   0.00000000e+00,   0.00000000e+00,\n",
       "           0.00000000e+00,   0.00000000e+00,  -9.44997638e+02]]),\n",
       " array([[  0.00000000e+00,   1.00000000e+00,   3.00000000e-03,\n",
       "          -1.49999250e+00,  -7.49998250e-03,   1.87497375e+00],\n",
       "        [  0.00000000e+00,   1.00000050e-03,  -2.99999550e+00,\n",
       "          -1.64999857e-02,   7.49993625e+00,   5.43747909e-02],\n",
       "        [  0.00000000e+00,   0.00000000e+00,  -6.00000000e-03,\n",
       "           1.49999550e+01,   1.19999790e-01,  -5.24993700e+01],\n",
       "        [  0.00000000e+00,   0.00000000e+00,   0.00000000e+00,\n",
       "           4.49999775e-02,  -1.04999528e+02,  -1.10249709e+00],\n",
       "        [  0.00000000e+00,   0.00000000e+00,   0.00000000e+00,\n",
       "           0.00000000e+00,  -4.19999580e-01,   9.44994330e+02],\n",
       "        [  0.00000000e+00,   0.00000000e+00,   0.00000000e+00,\n",
       "           0.00000000e+00,   0.00000000e+00,   4.72499291e+00]]))"
      ]
     },
     "execution_count": 85,
     "metadata": {},
     "output_type": "execute_result"
    }
   ],
   "source": [
    "a"
   ]
  },
  {
   "cell_type": "code",
   "execution_count": 89,
   "metadata": {
    "collapsed": false
   },
   "outputs": [
    {
     "data": {
      "text/plain": [
       "(array([[  1.00000000e+00,   1.00000000e-02,  -4.99850000e-01,\n",
       "          -1.49975000e-02,   3.74625044e-01,   1.87412508e-02],\n",
       "        [  0.00000000e+00,  -9.99949999e-01,  -2.99985000e-02,\n",
       "           1.49917504e+00,   7.49787508e-02,  -1.87228177e+00],\n",
       "        [  0.00000000e+00,   0.00000000e+00,   2.99970000e+00,\n",
       "           1.49985000e-01,  -7.49400053e+00,  -5.24790016e-01],\n",
       "        [  0.00000000e+00,   0.00000000e+00,   0.00000000e+00,\n",
       "          -1.49977501e+01,  -1.04984250e+00,   5.24448823e+01],\n",
       "        [  0.00000000e+00,   0.00000000e+00,   0.00000000e+00,\n",
       "           0.00000000e+00,   1.04979001e+02,   9.44811009e+00],\n",
       "        [  0.00000000e+00,   0.00000000e+00,   0.00000000e+00,\n",
       "           0.00000000e+00,   0.00000000e+00,  -9.44763768e+02]]),\n",
       " array([[  0.00000000e+00,   1.00000000e+00,   3.00000000e-02,\n",
       "          -1.49925000e+00,  -7.49825000e-02,   1.87237539e+00],\n",
       "        [  0.00000000e+00,   1.00005000e-02,  -2.99954998e+00,\n",
       "          -1.64985749e-01,   7.49362539e+00,   5.43540947e-01],\n",
       "        [  0.00000000e+00,   0.00000000e+00,  -6.00000000e-02,\n",
       "           1.49955000e+01,   1.19979000e+00,  -5.24370079e+01],\n",
       "        [  0.00000000e+00,   0.00000000e+00,   0.00000000e+00,\n",
       "           4.49977499e-01,  -1.04952752e+02,  -1.10220864e+01],\n",
       "        [  0.00000000e+00,   0.00000000e+00,   0.00000000e+00,\n",
       "           0.00000000e+00,  -4.19958000e+00,   9.44433047e+02],\n",
       "        [  0.00000000e+00,   0.00000000e+00,   0.00000000e+00,\n",
       "           0.00000000e+00,   0.00000000e+00,   4.72429127e+01]]))"
      ]
     },
     "execution_count": 89,
     "metadata": {},
     "output_type": "execute_result"
    }
   ],
   "source": [
    "lpmn(5, 5, 0.01)"
   ]
  },
  {
   "cell_type": "code",
   "execution_count": 100,
   "metadata": {
    "collapsed": false
   },
   "outputs": [
    {
     "data": {
      "text/plain": [
       "array([[  1.00000000e+00,   1.00000000e-02,  -4.99850000e-01,\n",
       "         -1.49975000e-02,   3.74625044e-01,   1.87412508e-02],\n",
       "       [  0.00000000e+00,  -9.99949999e-01,  -2.99985000e-02,\n",
       "          1.49917504e+00,   7.49787508e-02,  -1.87228177e+00],\n",
       "       [  0.00000000e+00,   0.00000000e+00,   2.99970000e+00,\n",
       "          1.49985000e-01,  -7.49400053e+00,  -5.24790016e-01],\n",
       "       [  0.00000000e+00,   0.00000000e+00,   0.00000000e+00,\n",
       "         -1.49977501e+01,  -1.04984250e+00,   5.24448823e+01],\n",
       "       [  0.00000000e+00,   0.00000000e+00,   0.00000000e+00,\n",
       "          0.00000000e+00,   1.04979001e+02,   9.44811009e+00]])"
      ]
     },
     "execution_count": 100,
     "metadata": {},
     "output_type": "execute_result"
    }
   ],
   "source": [
    "lpmn(4,5,0.01)[0]"
   ]
  },
  {
   "cell_type": "code",
   "execution_count": 99,
   "metadata": {
    "collapsed": false
   },
   "outputs": [
    {
     "data": {
      "text/plain": [
       "array([[  9.58851077e-01,   1.62537031e-01,   1.63711066e-02,\n",
       "          1.17403544e-03,   6.53896062e-05,   2.97746688e-06]])"
      ]
     },
     "execution_count": 99,
     "metadata": {},
     "output_type": "execute_result"
    }
   ],
   "source": [
    "sph_jn(5,0.5)[0][np.newaxis,:]"
   ]
  },
  {
   "cell_type": "code",
   "execution_count": 102,
   "metadata": {
    "collapsed": false
   },
   "outputs": [
    {
     "ename": "ValueError",
     "evalue": "m must be <= n.",
     "output_type": "error",
     "traceback": [
      "\u001b[1;31m---------------------------------------------------------------------------\u001b[0m",
      "\u001b[1;31mValueError\u001b[0m                                Traceback (most recent call last)",
      "\u001b[1;32m<ipython-input-102-c8a31760e113>\u001b[0m in \u001b[0;36m<module>\u001b[1;34m()\u001b[0m\n\u001b[1;32m----> 1\u001b[1;33m \u001b[0msph_jn\u001b[0m\u001b[1;33m(\u001b[0m\u001b[1;36m5\u001b[0m\u001b[1;33m,\u001b[0m\u001b[1;36m0.5\u001b[0m\u001b[1;33m)\u001b[0m\u001b[1;33m[\u001b[0m\u001b[1;36m0\u001b[0m\u001b[1;33m]\u001b[0m\u001b[1;33m[\u001b[0m\u001b[0mnp\u001b[0m\u001b[1;33m.\u001b[0m\u001b[0mnewaxis\u001b[0m\u001b[1;33m,\u001b[0m\u001b[1;33m:\u001b[0m\u001b[1;33m]\u001b[0m\u001b[1;33m+\u001b[0m\u001b[1;36m1j\u001b[0m\u001b[1;33m*\u001b[0m\u001b[0mlpmn\u001b[0m\u001b[1;33m(\u001b[0m\u001b[1;36m5\u001b[0m\u001b[1;33m,\u001b[0m\u001b[1;36m4\u001b[0m\u001b[1;33m,\u001b[0m\u001b[1;36m0.01\u001b[0m\u001b[1;33m)\u001b[0m\u001b[1;33m[\u001b[0m\u001b[1;36m0\u001b[0m\u001b[1;33m]\u001b[0m\u001b[1;33m\u001b[0m\u001b[0m\n\u001b[0m",
      "\u001b[1;32m/home/necadam1/.local/lib/python3.4/site-packages/scipy/special/basic.py\u001b[0m in \u001b[0;36mlpmn\u001b[1;34m(m, n, z)\u001b[0m\n\u001b[0;32m    686\u001b[0m     \"\"\"\n\u001b[0;32m    687\u001b[0m     \u001b[1;32mif\u001b[0m \u001b[1;32mnot\u001b[0m \u001b[0misscalar\u001b[0m\u001b[1;33m(\u001b[0m\u001b[0mm\u001b[0m\u001b[1;33m)\u001b[0m \u001b[1;32mor\u001b[0m \u001b[1;33m(\u001b[0m\u001b[0mabs\u001b[0m\u001b[1;33m(\u001b[0m\u001b[0mm\u001b[0m\u001b[1;33m)\u001b[0m \u001b[1;33m>\u001b[0m \u001b[0mn\u001b[0m\u001b[1;33m)\u001b[0m\u001b[1;33m:\u001b[0m\u001b[1;33m\u001b[0m\u001b[0m\n\u001b[1;32m--> 688\u001b[1;33m         \u001b[1;32mraise\u001b[0m \u001b[0mValueError\u001b[0m\u001b[1;33m(\u001b[0m\u001b[1;34m\"m must be <= n.\"\u001b[0m\u001b[1;33m)\u001b[0m\u001b[1;33m\u001b[0m\u001b[0m\n\u001b[0m\u001b[0;32m    689\u001b[0m     \u001b[1;32mif\u001b[0m \u001b[1;32mnot\u001b[0m \u001b[0misscalar\u001b[0m\u001b[1;33m(\u001b[0m\u001b[0mn\u001b[0m\u001b[1;33m)\u001b[0m \u001b[1;32mor\u001b[0m \u001b[1;33m(\u001b[0m\u001b[0mn\u001b[0m \u001b[1;33m<\u001b[0m \u001b[1;36m0\u001b[0m\u001b[1;33m)\u001b[0m\u001b[1;33m:\u001b[0m\u001b[1;33m\u001b[0m\u001b[0m\n\u001b[0;32m    690\u001b[0m         \u001b[1;32mraise\u001b[0m \u001b[0mValueError\u001b[0m\u001b[1;33m(\u001b[0m\u001b[1;34m\"n must be a non-negative integer.\"\u001b[0m\u001b[1;33m)\u001b[0m\u001b[1;33m\u001b[0m\u001b[0m\n",
      "\u001b[1;31mValueError\u001b[0m: m must be <= n."
     ]
    }
   ],
   "source": [
    "sph_jn(5,0.5)[0][np.newaxis,:]+1j*lpmn(5,5,0.01)[0]"
   ]
  },
  {
   "cell_type": "code",
   "execution_count": null,
   "metadata": {
    "collapsed": true
   },
   "outputs": [],
   "source": [
    "prod()"
   ]
  }
 ],
 "metadata": {
  "kernelspec": {
   "display_name": "Python 3",
   "language": "python",
   "name": "python3"
  },
  "language_info": {
   "codemirror_mode": {
    "name": "ipython",
    "version": 3
   },
   "file_extension": ".py",
   "mimetype": "text/x-python",
   "name": "python",
   "nbconvert_exporter": "python",
   "pygments_lexer": "ipython3",
   "version": "3.4.0"
  }
 },
 "nbformat": 4,
 "nbformat_minor": 0
}
