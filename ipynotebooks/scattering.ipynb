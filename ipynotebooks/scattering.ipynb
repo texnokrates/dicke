{
 "cells": [
  {
   "cell_type": "code",
   "execution_count": 1,
   "metadata": {
    "collapsed": true
   },
   "outputs": [],
   "source": [
    "import numpy as np\n",
    "import cmath\n",
    "import math\n",
    "from sklearn.preprocessing import normalize\n",
    "from scipy.constants import epsilon_0 as ε_0, c, pi as π, e, hbar as ℏ\n",
    "eV = e\n",
    "from scipy.special import lpmn, sph_jn, sph_yn\n",
    "from scipy.misc import factorial\n",
    "from numpy import newaxis as nx\n",
    "\n",
    "I = np.identity(3)"
   ]
  },
  {
   "cell_type": "markdown",
   "metadata": {},
   "source": [
    "## Green's functions\n",
    "All vectors are expected to be in cartesian coordinates. Arguments and return values are in form of arrays (\"lists\") to enable fast batch processing.\n",
    "### Free space"
   ]
  },
  {
   "cell_type": "code",
   "execution_count": 2,
   "metadata": {
    "collapsed": false
   },
   "outputs": [],
   "source": [
    "# Transverse delta; invalit at r1 = r2\n",
    "def δ_T(r1, r2):\n",
    "    print(\"Not implemented\")\n",
    "    return\n",
    "\n",
    "# Longitudinal delta; invalid at r1 = r2\n",
    "def δ_L(r1, r2):\n",
    "    print(\"Not implemented\")\n",
    "    return\n",
    "\n",
    "def G_fs(r1, r2, ω):\n",
    "    r12 = np.linalg.norm((r1-r2), axis=1)\n",
    "    g = np.exp(1j * r12 * ω/c) / (4*π*r12)\n",
    "    return np.outer(g, I)    \n",
    "\n",
    "def K_fs(r1, r2, ω):\n",
    "    print(\"Not implemented\")\n",
    "    return"
   ]
  },
  {
   "cell_type": "markdown",
   "metadata": {},
   "source": [
    "### Spherical particle (Mie solution)\n",
    "TODO"
   ]
  },
  {
   "cell_type": "code",
   "execution_count": 3,
   "metadata": {
    "collapsed": false
   },
   "outputs": [],
   "source": [
    "# r[:,0] = x = r sin θ cos φ\n",
    "# r[:,1] = y = r sin θ sin φ\n",
    "# r[:,2] = z = r cos θ\n",
    "def spherical_vector_waves(nmax, k, r):\n",
    "    # FIXME the implementation is _wrong_ very near z axis\n",
    "    # and the problem remains in the derivatives of Legendre polynomials\n",
    "    # k is single scalar, r is single 3D vector\n",
    "    r.shape = (3) # FIXME do proper check\n",
    "    ρ = np.linalg.norm(r)\n",
    "    r̂ = r/ρ\n",
    "    cosθ = r̂[2]\n",
    "    sinθ = np.sqrt(1-cosθ*cosθ) # FIXME np->math\n",
    "    cosφ = r̂[0]/sinθ if sinθ else 0 # avoid zero division here\n",
    "    sinφ = r̂[1]/sinθ if sinθ else 1\n",
    "    φ = np.arctan2(sinφ,cosφ)\n",
    "    # TODO can those be views so I don't have to write the indices\n",
    "    # explicitly?\n",
    "    m = np.arange(nmax+1)\n",
    "    n = m\n",
    "    sinmφ = np.sin(m*φ)\n",
    "    cosmφ = np.cos(m*φ)\n",
    "    θ̂ = np.array([cosθ*cosφ,cosθ*sinφ,-sinθ])\n",
    "    φ̂ = np.array([-sinφ, cosφ, 0])\n",
    "    jnkr2 = sph_jn(nmax, k*ρ)\n",
    "    # scipy.special.lpmn is for real arguments (see also clpmn)\n",
    "    # + derivatives\n",
    "    # m's are non-negative, cf. Bohren&Huffman (4.23)\n",
    "    Pmn2 = lpmn(nmax, nmax, cosθ)\n",
    "    \n",
    "    # FIXME this is _wrong_ very near z axis – but it avoids nan \n",
    "    # and should give correct result exactly on z axis\n",
    "    mdsinθ = m/(sinθ if sinθ else 1)\n",
    "    \n",
    "    Memn = (-mdsinθ[:,nx] * jnkr2[0][nx,:] * \n",
    "         Pmn2[0] * sinmφ[:,nx])[:,:,nx] * θ̂ [nx,nx,:] + (\n",
    "         + sinθ * jnkr2[0][nx,:] * Pmn2[1] * cosmφ[:,nx])[:,:,nx] * φ̂ [nx,nx,:]\n",
    "    Momn = (mdsinθ[:,nx] * jnkr2[0][nx,:] * \n",
    "         Pmn2[0] * cosmφ[:,nx])[:,:,nx] * θ̂ [nx,nx,:] + (\n",
    "         + sinθ * jnkr2[0][nx,:] * Pmn2[1] * sinmφ[:,nx])[:,:,nx] * φ̂ [nx,nx,:]\n",
    "    Npfac = jnkr2[0]/(k*ρ) + jnkr2[1]\n",
    "    Nemn = (((n*(n+1)/(k*ρ))*jnkr2[0])[nx,:]\n",
    "         * Pmn2[0] * cosmφ[:,nx])[:,:,nx] * r̂[nx,nx,:] + ( Npfac[nx,:] *\n",
    "         (-sinθ) * Pmn2[1] * cosmφ[:,nx])[:,:,nx] * θ̂ [nx,nx,:] + (\n",
    "         Npfac[nx,:] * (-mdsinθ)[:,nx] * Pmn2[0] * sinmφ[:,nx])[:,:,nx] * φ̂ [nx,nx,:]\n",
    "    Nomn = (((n*(n+1)/(k*ρ))*jnkr2[0])[nx,:]\n",
    "         * Pmn2[0] * sinmφ[:,nx])[:,:,nx] * r̂[nx,nx,:] + ( Npfac[nx,:] *\n",
    "         (-sinθ) * Pmn2[1] * sinmφ[:,nx])[:,:,nx] * θ̂ [nx,nx,:] + (\n",
    "         Npfac[nx,:] * mdsinθ[:,nx] * Pmn2[0] * cosmφ[:,nx])[:,:,nx] * φ̂ [nx,nx,:]\n",
    "    return (Memn, Momn, Nemn, Nomn)\n",
    "\n",
    "#TODO: test against my old code (electroballz)!\n",
    "def mie_reflection_coefficients(a, nmax, ε_m, ε_b, ω):\n",
    "    # permittivities are relative!\n",
    "    # cf. PRB 85, 075303, Appendix\n",
    "    # assuming unit rel. permeability\n",
    "    # for general permeability, cf. van Vlack's\n",
    "    # dissertation, pp. 41–42\n",
    "    #print(\"a, nmax, ε_m, ε_b, ω\",a, nmax, ε_m, ε_b, ω)\n",
    "    k_m = cmath.sqrt(ε_m) * ω / c\n",
    "    x_m = k_m * a\n",
    "    k_b = cmath.sqrt(ε_b) * ω / c\n",
    "    x_b = k_b * a\n",
    "    #print(\"k_m, x_m,k_b,x_b\",k_m, x_m,k_b,x_b)\n",
    "    jnka2_m = sph_jn(nmax, x_m)\n",
    "    jnka2_b = sph_jn(nmax, x_b)\n",
    "    ynka2_m = sph_yn(nmax, x_m)\n",
    "    ynka2_b = sph_yn(nmax, x_b)\n",
    "    #print(\"bessel funs\",jnka2_m, jnka2_b, ynka2_m, ynka2_b)\n",
    "    τ_m = jnka2_m[0]\n",
    "    τ_b = jnka2_b[0]\n",
    "    κ_m = τ_m + 1j * ynka2_m[0]\n",
    "    κ_b = τ_b + 1j * ynka2_b[0]\n",
    "    dτ_m = τ_m / x_m + jnka2_m[1]\n",
    "    dτ_b = τ_b / x_b + jnka2_b[1]\n",
    "    dκ_m = κ_m / x_m + jnka2_m[1] + 1j * ynka2_m[1]\n",
    "    dκ_b = κ_b / x_b + jnka2_b[1] + 1j * ynka2_b[1]\n",
    "    #print(\"bessel funs processed\",τ_m,τ_b,κ_m,κ_b,dτ_m,dτ_b,dκ_m,dκ_b)\n",
    "    RH = (k_m*dτ_m*τ_b - k_b*dτ_b*τ_m) / (k_m*dτ_m*κ_b - k_b*dκ_b*τ_m)\n",
    "    RV = (k_m*τ_m*dτ_b - k_b*τ_b*dτ_m) / (k_m*τ_m*dκ_b - k_b*κ_b*dτ_m)\n",
    "    return (RH, RV)\n",
    "    \n",
    "def mie_G_scatt(a, nmax, ε_m, ε_b, ω, r1, r2):\n",
    "    # the same applies as for mie_reflection_coefficients\n",
    "    (RH, RV) = mie_reflection_coefficients(a=a, nmax=nmax, ε_m=ε_m, ε_b=ε_b, ω=ω)\n",
    "    #print(RH,RV)\n",
    "    G = mie_G_scatt_precalcd(a=a, nmax=nmax, ε_b=ε_b, ω=ω, RH=RH, RV=RV, r1=r1, r2=r2)\n",
    "    return G\n",
    "\n",
    "def mie_G_scatt_precalcd(a, nmax, ε_b, ω, RH, RV, r1, r2):\n",
    "    k_b = cmath.sqrt(ε_b) * ω / c\n",
    "    n = np.arange(nmax + 1)\n",
    "    m = np.arange(nmax + 1)\n",
    "    # avoid zero division:\n",
    "    n[0] = 1 \n",
    "    oneminusδn = np.ones(nmax+1)\n",
    "    oneminusδn[0] = 0\n",
    "    \n",
    "    twominusδm = np.ones(nmax+1) * 2\n",
    "    twominusδm[0] = 1\n",
    "    prefactor = (-1j * k_b / (4 * π)) * twominusδm[:,nx] * (\n",
    "      (2*n+1)/(n*(n+1)))[nx,:] * (factorial(n[nx,:]-m[:,nx])\n",
    "      / factorial(n[nx,:]+m[:,nx])) * oneminusδn [nx,:]\n",
    "    (Me1, Mo1, Ne1, No1) = spherical_vector_waves(nmax, k_b, r1)\n",
    "    (Me2, Mo2, Ne2, No2) = spherical_vector_waves(nmax, k_b, r2)\n",
    "    G_contribs = prefactor[:,:,nx,nx] * (\n",
    "        RH[nx,:,nx,nx] \n",
    "        * (Me1[:,:,:,nx] \n",
    "           * Me2[:,:,nx,:]                \n",
    "           + Mo1[:,:,:,nx] \n",
    "           * Mo2[:,:,nx,:])\n",
    "       +RV[nx,:,nx,nx] * (Ne1[:,:,:,nx] * Ne2[:,:,nx,:]\n",
    "                          + No1[:,:,:,nx] * No2[:,:,nx,:]) \n",
    "    )\n",
    "    return np.sum(G_contribs, axis=(0,1))\n"
   ]
  },
  {
   "cell_type": "code",
   "execution_count": null,
   "metadata": {
    "collapsed": true
   },
   "outputs": [],
   "source": []
  },
  {
   "cell_type": "markdown",
   "metadata": {},
   "source": [
    "## T-matrix"
   ]
  },
  {
   "cell_type": "code",
   "execution_count": 34,
   "metadata": {
    "collapsed": true
   },
   "outputs": [],
   "source": [
    "# self-scattering dressed potential as in the supplementary\n",
    "# of PRL 112, 253601, eq. 21\n",
    "def T1(ω, Ω, K_self, μ):\n",
    "    # FIXME maybe the formula from Delga supprement (15) will\n",
    "    # be needed instead of this (Wubs 13)\n",
    "    V = (np.linalg.norm(μ)**2 / (ε_0*ℏ*c*c)) * (ω**2 * \n",
    "                                     2 * Ω /(ω**2 - Ω**2))\n",
    "    μ̂ = μ / np.linalg.norm(μ)\n",
    "    T = (V/(1-np.dot(np.dot(μ,K_self),μ))) * μ̂ [:,nx]*μ̂ [nx,:]\n",
    "    return T\n",
    "\n",
    "    \n",
    "\n",
    "def M(G, ω, R, μ): # as in PRA 70, 053823, eq. (37)\n",
    "    #M = eye(N)\n",
    "    return\n",
    "    \n",
    "    "
   ]
  },
  {
   "cell_type": "markdown",
   "metadata": {},
   "source": [
    "### Material parameters"
   ]
  },
  {
   "cell_type": "code",
   "execution_count": 4,
   "metadata": {
    "collapsed": false
   },
   "outputs": [],
   "source": [
    "def ε_drude(ε_inf, ω_p, γ_p, ω): # RELATIVE permittivity, of course\n",
    "    return ε_inf - ω_p*ω_p/(ω*(ω+1j*γ_p))"
   ]
  },
  {
   "cell_type": "markdown",
   "metadata": {},
   "source": [
    "# Examples\n",
    "Single atom near a nanoparticle, as in PRL 112, 253601.\n",
    "We want to reproduce part of figure 4.\n",
    "\n",
    "The ordering of R, r_n arguments in eq. (4) has to be checked"
   ]
  },
  {
   "cell_type": "code",
   "execution_count": 5,
   "metadata": {
    "collapsed": false
   },
   "outputs": [],
   "source": [
    "%matplotlib inline\n",
    "import matplotlib.pyplot as plt"
   ]
  },
  {
   "cell_type": "markdown",
   "metadata": {},
   "source": [
    "### Single source atom"
   ]
  },
  {
   "cell_type": "code",
   "execution_count": 139,
   "metadata": {
    "collapsed": false
   },
   "outputs": [
    {
     "data": {
      "text/plain": [
       "[<matplotlib.lines.Line2D at 0x7f9e2a07f860>]"
      ]
     },
     "execution_count": 139,
     "metadata": {},
     "output_type": "execute_result"
    },
    {
     "data": {
      "image/png": "[encoded data removed]",
      "text/plain": [
       "<matplotlib.figure.Figure at 0x7f9e29e2de80>"
      ]
     },
     "metadata": {},
     "output_type": "display_data"
    }
   ],
   "source": [
    "a = 7e-9\n",
    "r1 = np.array([8e-8,0,0]) # atom position\n",
    "ω_p = 9*eV/ℏ\n",
    "#print(ω_p)\n",
    "ε_inf = 4.6\n",
    "γ_p = 0.1*eV/ℏ\n",
    "ε_b = 1\n",
    "γ_QE = 0.0015*eV/ℏ # Original Delga: 15 meV. Makes the peak too sharp.\n",
    "μ = np.array([0.19e-9*e,0,0])\n",
    "\n",
    "#R = np.array([0,8e-9,0]) # detector position\n",
    "R = np.array([0,8e-8,0])\n",
    "ω_0 = 3.30*eV/ℏ\n",
    "Ω = ω_0+1j*γ_QE\n",
    "startω = 3.2*eV/ℏ\n",
    "stopω = 4.0*eV/ℏ\n",
    "nmax=30\n",
    "\n",
    "ωlist = np.linspace(startω, stopω, 100)\n",
    "Slist = np.empty(shape=ωlist.shape,dtype=float)\n",
    "for i in range(ωlist.shape[0]):\n",
    "    ω = ωlist[i]\n",
    "    ε_m = ε_drude(ε_inf, ω_p, γ_p, ω)\n",
    "    #print (\"ε_m\",ε_m)\n",
    "    K = mie_G_scatt(a=a, nmax=nmax, ε_m=ε_m,\n",
    "                    ε_b=ε_b, ω=ω, r1=R, r2=r1)\n",
    "    Kself = mie_G_scatt(a=a, nmax=nmax, ε_m=ε_m,\n",
    "                    ε_b=ε_b, ω=ω, r1=r1, r2=r1)\n",
    "    #pref = np.linalg.norm((ω*ω/(c*c*ε_0))*np.dot(G, μ))**2\n",
    "    #postf = 1/abs(ω-Ω)**2+1/abs(ω+Ω)**2\n",
    "    num = np.linalg.norm((ω*ω/(c*c*ε_0))*np.dot(K,μ))**2\n",
    "    den = abs(ω*ω-2j*ω*Ω.imag - abs(Ω)**2 \n",
    "           +2*(ω*ω/(c*c*ε_0*ℏ)) * Ω.real*np.dot(μ,np.dot(Kself,μ)))**2\n",
    "    Slist[i] = num*den*2*(ω*ω+abs(Ω)**2)\n",
    "plt.plot(ωlist*ℏ/eV,Slist)\n",
    "\n"
   ]
  },
  {
   "cell_type": "code",
   "execution_count": 124,
   "metadata": {
    "collapsed": false
   },
   "outputs": [],
   "source": [
    "import matplotlib.cm as cm\n",
    "from matplotlib.colors import LogNorm\n",
    "\n",
    "\n",
    "startω = 2.7*eV/ℏ\n",
    "stopω = 3.7*eV/ℏ\n",
    "ωlist = np.linspace(startω, stopω, 100)\n",
    "ω_0list = np.linspace(startω, stopω, 100)\n",
    "Slist = np.empty(shape=(ω_0list.shape[0],ωlist.shape[0]),dtype=float)\n",
    "for i in range(ω_0list.shape[0]):\n",
    "    ω_0 = ω_0list[i]\n",
    "    Ω = ω_0+1j*γ_QE\n",
    "    for k in range(ωlist.shape[0]):\n",
    "        ω = ωlist[k]\n",
    "        ε_m = ε_drude(ε_inf, ω_p, γ_p, ω)\n",
    "        #G = mie_G_scatt(a=a, nmax=nmax, ε_m=ε_m,\n",
    "        #            ε_b=ε_b, ω=ω, r1=R, r2=r1)\n",
    "        #pref = np.linalg.norm((ω*ω/(c*c*ε_0))*np.dot(G, μ))**2\n",
    "        #postf = 1/abs(ω-Ω)**2+1/abs(ω+Ω)**2\n",
    "        K = mie_G_scatt(a=a, nmax=nmax, ε_m=ε_m,\n",
    "                    ε_b=ε_b, ω=ω, r1=R, r2=r1)\n",
    "        Kself = mie_G_scatt(a=a, nmax=nmax, ε_m=ε_m,\n",
    "                    ε_b=ε_b, ω=ω, r1=r1, r2=r1)\n",
    "        num = np.linalg.norm((ω*ω/(c*c*ε_0))*np.dot(K,μ))**2\n",
    "        den = abs(ω*ω-2j*ω*Ω.imag - abs(Ω)**2 \n",
    "           +2*(ω*ω/(c*c*ε_0*ℏ)) * Ω.real*np.dot(μ,np.dot(Kself,μ)))**2\n",
    "        Slist[i,k] = num/den*2*(ω*ω+abs(Ω)**2)\n",
    "        #Slist[i,k] = pref*postf"
   ]
  },
  {
   "cell_type": "code",
   "execution_count": 125,
   "metadata": {
    "collapsed": false
   },
   "outputs": [
    {
     "data": {
      "text/plain": [
       "<matplotlib.image.AxesImage at 0x7f9e29f36c50>"
      ]
     },
     "execution_count": 125,
     "metadata": {},
     "output_type": "execute_result"
    },
    {
     "data": {
      "image/png": "[encoded data removed]",
      "text/plain": [
       "<matplotlib.figure.Figure at 0x7f9e29e91fd0>"
      ]
     },
     "metadata": {},
     "output_type": "display_data"
    }
   ],
   "source": [
    "plt.imshow(Slist, extent=(ω_0list.min()*ℏ/eV, ω_0list.max()*ℏ/eV, ωlist.min()*ℏ/eV, ωlist.max()*ℏ/eV),\n",
    "           interpolation='nearest', norm=LogNorm(), origin='lower', cmap=cm.jet)"
   ]
  },
  {
   "cell_type": "markdown",
   "metadata": {},
   "source": [
    "#### FIXME\n",
    "Position of the dipole/detector part does not seem to affect the shape. The most important value seems to be γ_QE, which determines\n",
    "the sharpness of the first peak. I had to set it higher in order to get\n",
    "something more similar to Delga's figure 4."
   ]
  },
  {
   "cell_type": "markdown",
   "metadata": {},
   "source": [
    "# Playground"
   ]
  },
  {
   "cell_type": "code",
   "execution_count": 8,
   "metadata": {
    "collapsed": false
   },
   "outputs": [],
   "source": [
    "import matplotlib.cm as cm\n",
    "import matplotlib.mlab as mlab\n",
    "a = 7e-9\n",
    "r1 = np.array([8e-9,0,0]) # atom position\n",
    "ω_p = 9*eV/ℏ\n",
    "#print(ω_p)\n",
    "ε_inf = 4.6\n",
    "γ_p = 0.1*eV/ℏ\n",
    "ε_b = 1\n",
    "γ_QE = 0.025*eV/ℏ # Original Delga: 15 meV. Makes the peak too sharp.\n",
    "μ = np.array([0.19e-9*e,0,0])\n",
    "\n",
    "#R = np.array([0,8e-9,0]) # detector position\n",
    "R = np.array([8e-9,8e-10,0])\n",
    "ω_0 = 3.3*eV/ℏ\n",
    "Ω = ω_0+1j*γ_QE\n",
    "startω = 3.2*eV/ℏ\n",
    "stopω = 3.6*eV/ℏ\n",
    "nmax=10"
   ]
  },
  {
   "cell_type": "code",
   "execution_count": 19,
   "metadata": {
    "collapsed": false
   },
   "outputs": [
    {
     "data": {
      "text/plain": [
       "array([[ 0.03302973+0.04555572j,  0.00000000+0.j        ,\n",
       "         0.00000000+0.j        ,  0.00000000+0.j        ,\n",
       "         0.03302973+0.04555572j,  0.00000000+0.j        ,\n",
       "         0.00000000+0.j        ,  0.00000000+0.j        ,\n",
       "         0.03302973+0.04555572j],\n",
       "       [-0.01107202+0.02410456j, -0.00000000+0.j        ,\n",
       "        -0.00000000+0.j        , -0.00000000+0.j        ,\n",
       "        -0.01107202+0.02410456j, -0.00000000+0.j        ,\n",
       "        -0.00000000+0.j        , -0.00000000+0.j        ,\n",
       "        -0.01107202+0.02410456j]])"
      ]
     },
     "execution_count": 19,
     "metadata": {},
     "output_type": "execute_result"
    }
   ],
   "source": [
    "r = np.array([[1,0,0],[2,2,2]])\n",
    "R = np.array([[0,1,0],[0,1,4]])\n",
    "np.linalg.norm((r-R), axis=1)\n",
    "G_fs(r, R, 2e8)"
   ]
  },
  {
   "cell_type": "code",
   "execution_count": 235,
   "metadata": {
    "collapsed": false
   },
   "outputs": [
    {
     "data": {
      "text/plain": [
       "{'divide': 'raise', 'invalid': 'warn', 'over': 'warn', 'under': 'ignore'}"
      ]
     },
     "execution_count": 235,
     "metadata": {},
     "output_type": "execute_result"
    }
   ],
   "source": [
    "np.seterr(divide='raise')\n",
    "#spherical_vector_waves(5, 1, np.array([0,0.0001,1]))\n"
   ]
  },
  {
   "cell_type": "code",
   "execution_count": 286,
   "metadata": {
    "collapsed": false
   },
   "outputs": [
    {
     "name": "stdout",
     "output_type": "stream",
     "text": [
      "(5e-08, 5, (-3.3024390243902424+0.24695121951219506j), 1, 599584916000000.0)\n"
     ]
    },
    {
     "data": {
      "text/plain": [
       "array([[ -2.32297859e+02 -3.17161350e+01j,\n",
       "          1.20253598e-04 +9.53143048e-06j,\n",
       "          0.00000000e+00 +0.00000000e+00j],\n",
       "       [ -5.42281207e-04 +6.42401046e-06j,\n",
       "         -2.32297859e+02 -3.17161350e+01j,\n",
       "          0.00000000e+00 +0.00000000e+00j],\n",
       "       [  0.00000000e+00 +0.00000000e+00j,\n",
       "          0.00000000e+00 +0.00000000e+00j,\n",
       "         -2.31963212e+02 -3.16704449e+01j]])"
      ]
     },
     "execution_count": 286,
     "metadata": {},
     "output_type": "execute_result"
    }
   ],
   "source": [
    "a=50e-9\n",
    "nmax=5\n",
    "ε_m=-3.3024390243902424+0.24695121951219506j\n",
    "ε_b=1\n",
    "ω=c/500e-9\n",
    "(RH,RV)=mie_reflection_coefficients(a=a, nmax=nmax, ε_m=ε_m, ε_b=ε_b, ω=ω)\n",
    "mie_G_scatt_precalcd(a=a, nmax=nmax, ε_b=ε_b, ω=ω, RH=RH, RV=RV, r1=np.array([60e-9,0,0]), r2=np.array([0,60e-9,0]))"
   ]
  },
  {
   "cell_type": "code",
   "execution_count": 287,
   "metadata": {
    "collapsed": false
   },
   "outputs": [
    {
     "name": "stdout",
     "output_type": "stream",
     "text": [
      "(5e-08, 5, (-3.3024390243902424+0.24695121951219506j), 1, 599584916000000.0)\n",
      "[  8.13818602e-05 +1.40702053e-03j   5.43528767e-08 +9.50836700e-07j\n",
      "   1.56022588e-11 +2.72347866e-10j   2.48098873e-15 +4.32728136e-14j\n",
      "   2.50831510e-19 +4.37326736e-18j   1.75499704e-23 +3.05919479e-22j] [  1.77618510e-01 +3.53782431e-01j   3.00212315e-04 -2.19883911e-03j\n",
      "   6.25115443e-08 -7.88678899e-07j   1.24040855e-11 -1.83448648e-10j\n",
      "   1.63867255e-15 -2.62046092e-14j   1.48111664e-19 -2.48158929e-18j]\n"
     ]
    },
    {
     "data": {
      "text/plain": [
       "array([[ -2.32297859e+02 -3.17161350e+01j,\n",
       "          1.20253598e-04 +9.53143048e-06j,\n",
       "          0.00000000e+00 +0.00000000e+00j],\n",
       "       [ -5.42281207e-04 +6.42401046e-06j,\n",
       "         -2.32297859e+02 -3.17161350e+01j,\n",
       "          0.00000000e+00 +0.00000000e+00j],\n",
       "       [  0.00000000e+00 +0.00000000e+00j,\n",
       "          0.00000000e+00 +0.00000000e+00j,\n",
       "         -2.31963212e+02 -3.16704449e+01j]])"
      ]
     },
     "execution_count": 287,
     "metadata": {},
     "output_type": "execute_result"
    }
   ],
   "source": [
    "mie_G_scatt(a=a, nmax=nmax, ε_m=ε_m, ε_b=ε_b, ω=ω, r1=np.array([60e-9,0,0]), r2=np.array([0,60e-9,0]))\n",
    "#(RH, RV) = mie_reflection_coefficients(a, nmax, ε_m, ε_b, ω)\n",
    "#mie_G_scatt_precalcd(a, nmax, ε_b, ω, RH, RV, r1, r2)m"
   ]
  },
  {
   "cell_type": "code",
   "execution_count": 244,
   "metadata": {
    "collapsed": false
   },
   "outputs": [
    {
     "data": {
      "text/plain": [
       "array([[-2.34147492-2.19632374j,  0.00000000+0.j        ,  0.00000000+0.j        ],\n",
       "       [ 0.00000000+0.j        , -2.33474100-2.1900078j ,  0.00000000+0.j        ],\n",
       "       [ 0.00000000+0.j        ,  0.00000000+0.j        ,\n",
       "        -2.33474100-2.1900078j ]])"
      ]
     },
     "execution_count": 244,
     "metadata": {},
     "output_type": "execute_result"
    }
   ],
   "source": [
    "mie_G_scatt(a=a, nmax=nmax, ε_m=ε_m, ε_b=ε_b, ω=ω, r1=np.array([60e-9,0,0]), r2=np.array([60e-9,0,0]))\n"
   ]
  },
  {
   "cell_type": "code",
   "execution_count": 246,
   "metadata": {
    "collapsed": false
   },
   "outputs": [
    {
     "data": {
      "text/plain": [
       "array([[ -2.33809776e+00 -2.19315598e+00j,\n",
       "          2.02411316e-06 +1.87437796e-06j,\n",
       "          0.00000000e+00 +0.00000000e+00j],\n",
       "       [  5.41975756e-06 +5.64566844e-06j,\n",
       "         -2.33809776e+00 -2.19315598e+00j,\n",
       "          0.00000000e+00 +0.00000000e+00j],\n",
       "       [  0.00000000e+00 +0.00000000e+00j,\n",
       "          0.00000000e+00 +0.00000000e+00j,\n",
       "         -2.33472952e+00 -2.18999654e+00j]])"
      ]
     },
     "execution_count": 246,
     "metadata": {},
     "output_type": "execute_result"
    }
   ],
   "source": [
    "mie_G_scatt(a=a, nmax=5*nmax, ε_m=ε_m, ε_b=ε_b, ω=ω, r1=np.array([60e-9,0,0]), r2=np.array([0,60e-9,0]))\n"
   ]
  },
  {
   "cell_type": "code",
   "execution_count": 251,
   "metadata": {
    "collapsed": false
   },
   "outputs": [
    {
     "data": {
      "text/plain": [
       "2.23606797749979"
      ]
     },
     "execution_count": 251,
     "metadata": {},
     "output_type": "execute_result"
    }
   ],
   "source": [
    "abs(2j+1)"
   ]
  },
  {
   "cell_type": "code",
   "execution_count": 98,
   "metadata": {
    "collapsed": false
   },
   "outputs": [
    {
     "data": {
      "text/plain": [
       "array([ 0.04352634, -0.03732715,  0.        ])"
      ]
     },
     "execution_count": 98,
     "metadata": {},
     "output_type": "execute_result"
    }
   ],
   "source": [
    "nmax=10\n",
    "k=1\n",
    "# generate grid\n",
    "x=np.linspace(-8, 8, 30)\n",
    "y=np.linspace(-8, 8, 30)\n",
    "x, y=np.meshgrid(x, y)\n",
    "w = [None] * x.shape[0]\n",
    "for i in range(x.shape[0]):\n",
    "    w[i] = [None] * x.shape[1]\n",
    "    for j in range(x.shape[1]):\n",
    "        w[i][j]=(spherical_vector_waves(nmax=nmax, k=k, r=np.array([x[i,j],y[i,j],0])))\n",
    "w = np.array(w)\n",
    "w.shape\n",
    "w[0,0,t,m,n]\n",
    "# calculate vector field\n",
    "#vx=-y/np.sqrt(x**2+y**2)*np.exp(-(x**2+y**2))\n",
    "#vy= x/np.sqrt(x**2+y**2)*np.exp(-(x**2+y**2))"
   ]
  },
  {
   "cell_type": "code",
   "execution_count": 99,
   "metadata": {
    "collapsed": false
   },
   "outputs": [
    {
     "ename": "AttributeError",
     "evalue": "'tuple' object has no attribute 'shape'",
     "output_type": "error",
     "traceback": [
      "\u001b[1;31m---------------------------------------------------------------------------\u001b[0m",
      "\u001b[1;31mAttributeError\u001b[0m                            Traceback (most recent call last)",
      "\u001b[1;32m<ipython-input-99-c8e8615db14c>\u001b[0m in \u001b[0;36m<module>\u001b[1;34m()\u001b[0m\n\u001b[1;32m----> 1\u001b[1;33m \u001b[0mspherical_vector_waves\u001b[0m\u001b[1;33m(\u001b[0m\u001b[0mnmax\u001b[0m\u001b[1;33m=\u001b[0m\u001b[0mnmax\u001b[0m\u001b[1;33m,\u001b[0m \u001b[0mk\u001b[0m\u001b[1;33m=\u001b[0m\u001b[0mk\u001b[0m\u001b[1;33m,\u001b[0m \u001b[0mr\u001b[0m\u001b[1;33m=\u001b[0m\u001b[0mnp\u001b[0m\u001b[1;33m.\u001b[0m\u001b[0marray\u001b[0m\u001b[1;33m(\u001b[0m\u001b[1;33m[\u001b[0m\u001b[0mx\u001b[0m\u001b[1;33m[\u001b[0m\u001b[1;36m1\u001b[0m\u001b[1;33m,\u001b[0m\u001b[1;36m0\u001b[0m\u001b[1;33m]\u001b[0m\u001b[1;33m,\u001b[0m\u001b[0my\u001b[0m\u001b[1;33m[\u001b[0m\u001b[1;36m1\u001b[0m\u001b[1;33m,\u001b[0m\u001b[1;36m0\u001b[0m\u001b[1;33m]\u001b[0m\u001b[1;33m,\u001b[0m\u001b[1;36m0\u001b[0m\u001b[1;33m]\u001b[0m\u001b[1;33m)\u001b[0m\u001b[1;33m)\u001b[0m\u001b[1;33m.\u001b[0m\u001b[0mshape\u001b[0m\u001b[1;33m\u001b[0m\u001b[0m\n\u001b[0m",
      "\u001b[1;31mAttributeError\u001b[0m: 'tuple' object has no attribute 'shape'"
     ]
    }
   ],
   "source": [
    "spherical_vector_waves(nmax=nmax, k=k, r=np.array([x[1,0],y[1,0],0])).shape"
   ]
  },
  {
   "cell_type": "code",
   "execution_count": 131,
   "metadata": {
    "collapsed": false
   },
   "outputs": [
    {
     "data": {
      "image/png": "[encoded data removed]",
      "text/plain": [
       "<matplotlib.figure.Figure at 0x7f9e29fb9e48>"
      ]
     },
     "metadata": {},
     "output_type": "display_data"
    }
   ],
   "source": [
    "m = 1\n",
    "n = 1\n",
    "t = 2\n",
    "vx = w[:,:,t,m,n,0]\n",
    "vy = w[:,:,t,m,n,1]\n",
    "plt.figure(figsize=(6, 4.5))\n",
    "# plot vecor field\n",
    "plt.quiver(x, y, vx, vy, pivot='middle', headwidth=4, headlength=6)\n",
    "plt.xlabel('$x$')\n",
    "plt.ylabel('$y$')\n",
    "plt.axis('image')\n",
    "plt.show()\n",
    "    "
   ]
  },
  {
   "cell_type": "code",
   "execution_count": 178,
   "metadata": {
    "collapsed": false
   },
   "outputs": [
    {
     "data": {
      "text/plain": [
       "(30, 30, 3)"
      ]
     },
     "execution_count": 178,
     "metadata": {},
     "output_type": "execute_result"
    }
   ],
   "source": [
    "# Ověření tvaru Greenovy funkce\n",
    "a = 7e-9\n",
    "r1 = np.array([2e-7,2e-7,0]) # atom position\n",
    "ω_p = 9*eV/ℏ\n",
    "#print(ω_p)\n",
    "ε_inf = 4.6\n",
    "γ_p = 0.1*eV/ℏ\n",
    "ε_b = 1\n",
    "γ_QE = 0.025*eV/ℏ # Original Delga: 15 meV. Makes the peak too sharp.\n",
    "#μ = np.array([0.19e-9*e,0,0])\n",
    "nmax=50\n",
    "ω = 3.7*eV/ℏ\n",
    "#ε_m = ε_drude(ε_inf, ω_p, γ_p, ω)\n",
    "ε_m=1+.001j\n",
    "(RH, RV) = mie_reflection_coefficients(a=a, nmax=nmax, ε_m=ε_m, ε_b=ε_b, ω=ω)\n",
    "\n",
    "# generate grid\n",
    "x=np.linspace(-4e-7, 4e-7, 30)\n",
    "y=np.linspace(-4e-7, 4e-7, 30)\n",
    "x, y=np.meshgrid(x, y)\n",
    "w = [None] * x.shape[0]\n",
    "for i in range(x.shape[0]):\n",
    "    w[i] = [None] * x.shape[1]\n",
    "    for j in range(x.shape[1]):\n",
    "        r = np.array([x[i,j],y[i,j],0])\n",
    "        G = mie_G_scatt_precalcd(a=a, nmax=nmax, ε_b=ε_b, ω=ω, RH=RH, RV=RV, r1=r1, r2=r)\n",
    "        w[i][j]=np.dot(G,np.array([0,1,0]))\n",
    "w = np.array(w)\n",
    "w.shape\n",
    "# calculate vector field\n",
    "#vx=-y/np.sqrt(x**2+y**2)*np.exp(-(x**2+y**2))\n",
    "#vy= x/np.sqrt(x**2+y**2)*np.exp(-(x**2+y**2))"
   ]
  },
  {
   "cell_type": "code",
   "execution_count": 179,
   "metadata": {
    "collapsed": false
   },
   "outputs": [
    {
     "data": {
      "image/png": "[encoded data removed]",
      "text/plain": [
       "<matplotlib.figure.Figure at 0x7f9e282cbeb8>"
      ]
     },
     "metadata": {},
     "output_type": "display_data"
    }
   ],
   "source": [
    "vx = np.real(w[:,:,0])\n",
    "vy = np.real(w[:,:,1])\n",
    "plt.figure(figsize=(6, 4.5))\n",
    "# plot vecor field\n",
    "plt.quiver(x, y, vx, vy, pivot='middle', headwidth=4, headlength=6)\n",
    "plt.xlabel('$x$')\n",
    "plt.ylabel('$y$')\n",
    "plt.axis('image')\n",
    "plt.show()"
   ]
  },
  {
   "cell_type": "code",
   "execution_count": 168,
   "metadata": {
    "collapsed": false
   },
   "outputs": [
    {
     "data": {
      "text/plain": [
       "array([[  1.03517700e-05,   7.26412271e-06,   3.32737683e-06,\n",
       "         -7.32376097e-07,  -4.26076991e-06,  -6.78644906e-06,\n",
       "         -8.07905284e-06,  -8.14982370e-06,  -7.20466857e-06,\n",
       "         -5.56908005e-06,  -3.60758766e-06,  -1.65723950e-06,\n",
       "          1.33380923e-08,   1.21765166e-06,   1.84485623e-06,\n",
       "          1.84504155e-06,   1.21821342e-06,   1.42871466e-08,\n",
       "         -1.65590439e-06,  -3.60590133e-06,  -5.56712841e-06,\n",
       "         -7.20259416e-06,  -8.14781463e-06,  -8.07731508e-06,\n",
       "         -6.78516731e-06,  -4.26006633e-06,  -7.32277891e-07,\n",
       "          3.32695115e-06,   7.26335280e-06,   1.03508992e-05],\n",
       "       [  8.81558700e-06,   4.31998375e-06,  -5.49203572e-07,\n",
       "         -4.92854600e-06,  -8.13840962e-06,  -9.78968861e-06,\n",
       "         -9.81594316e-06,  -8.43394361e-06,  -6.05233320e-06,\n",
       "         -3.15810603e-06,  -2.11841540e-07,   2.42442786e-06,\n",
       "          4.51557836e-06,   5.94124128e-06,   6.65819430e-06,\n",
       "          6.65829126e-06,   5.94155739e-06,   4.51617851e-06,\n",
       "          2.42538746e-06,  -2.10474982e-07,  -3.15634835e-06,\n",
       "         -6.05028419e-06,  -8.43178466e-06,  -9.81391007e-06,\n",
       "         -9.78802476e-06,  -8.13731070e-06,  -4.92811060e-06,\n",
       "         -5.49403355e-07,   4.31930498e-06,   8.81468299e-06],\n",
       "       [  5.92832706e-06,   2.45786004e-07,  -5.15607929e-06,\n",
       "         -9.33345986e-06,  -1.16598263e-05,  -1.19147170e-05,\n",
       "         -1.02749197e-05,  -7.22088266e-06,  -3.39056601e-06,\n",
       "          5.77303609e-07,   4.17041267e-06,   7.07248759e-06,\n",
       "          9.16608935e-06,   1.04791076e-05,   1.11008916e-05,\n",
       "          1.11008399e-05,   1.04790038e-05,   9.16607091e-06,\n",
       "          7.07273460e-06,   4.17108808e-06,   5.78495063e-07,\n",
       "         -3.38888641e-06,  -7.21886836e-06,  -1.02728252e-05,\n",
       "         -1.19128434e-05,  -1.16584511e-05,  -9.33276733e-06,\n",
       "         -5.15611109e-06,   2.45146846e-07,   5.92733322e-06],\n",
       "       [  1.90137670e-06,  -4.60325714e-06,  -1.00258067e-05,\n",
       "         -1.34173958e-05,  -1.42963389e-05,  -1.27038808e-05,\n",
       "         -9.13846222e-06,  -4.39399976e-06,   6.50563266e-07,\n",
       "          5.23440035e-06,   8.86053523e-06,   1.13525874e-05,\n",
       "          1.28167946e-05,   1.35296870e-05,   1.37912277e-05,\n",
       "          1.37909714e-05,   1.35290015e-05,   1.28159078e-05,\n",
       "          1.13518099e-05,   8.86017625e-06,   5.23468228e-06,\n",
       "          6.51557320e-07,  -4.39239933e-06,  -9.13651827e-06,\n",
       "         -1.27019521e-05,  -1.42947930e-05,  -1.34165169e-05,\n",
       "         -1.00257234e-05,  -4.60390760e-06,   1.90023211e-06],\n",
       "       [ -2.92896288e-06,  -9.78205995e-06,  -1.46495006e-05,\n",
       "         -1.66654390e-05,  -1.55913978e-05,  -1.18231811e-05,\n",
       "         -6.25249432e-06,  -2.41033999e-08,   5.74684562e-06,\n",
       "          1.02257182e-05,   1.30170015e-05,   1.41961991e-05,\n",
       "          1.42146334e-05,   1.37099721e-05,   1.32791279e-05,\n",
       "          1.32786222e-05,   1.37085757e-05,   1.42126788e-05,\n",
       "          1.41941498e-05,   1.30153390e-05,   1.02248259e-05,\n",
       "          5.74691625e-06,  -2.31118524e-08,  -6.25084555e-06,\n",
       "         -1.18212926e-05,  -1.55897360e-05,  -1.66644024e-05,\n",
       "         -1.46493212e-05,  -9.78274681e-06,  -2.93030099e-06],\n",
       "       [ -8.15418120e-06,  -1.48218535e-05,  -1.85507815e-05,\n",
       "         -1.86515629e-05,  -1.52258871e-05,  -9.10938952e-06,\n",
       "         -1.64630554e-06,   5.64552336e-06,   1.14353869e-05,\n",
       "          1.48778266e-05,   1.57771122e-05,   1.45816734e-05,\n",
       "          1.22152658e-05,   9.79256981e-06,   8.29538985e-06,\n",
       "          8.29460578e-06,   9.79037939e-06,   1.22121173e-05,\n",
       "          1.45781991e-05,   1.57739850e-05,   1.48756095e-05,\n",
       "          1.14344102e-05,   5.64581934e-06,  -1.64499762e-06,\n",
       "         -9.10754918e-06,  -1.52240889e-05,  -1.86503332e-05,\n",
       "         -1.85504714e-05,  -1.48225571e-05,  -8.15571924e-06],\n",
       "       [ -1.33547058e-05,  -1.92988416e-05,  -2.13554479e-05,\n",
       "         -1.91016406e-05,  -1.30662535e-05,  -4.59524545e-06,\n",
       "          4.47233349e-06,   1.22396857e-05,   1.71943595e-05,\n",
       "          1.85513391e-05,   1.64157269e-05,   1.17276113e-05,\n",
       "          6.00468717e-06,   9.47268347e-07,  -1.99642621e-06,\n",
       "         -1.99749904e-06,   9.44254906e-07,   6.00030318e-06,\n",
       "          1.17226670e-05,   1.64110971e-05,   1.85477765e-05,\n",
       "          1.71923399e-05,   1.22393200e-05,   4.47336365e-06,\n",
       "         -4.59336588e-06,  -1.30642164e-05,  -1.91001126e-05,\n",
       "         -2.13549123e-05,  -1.92994902e-05,  -1.33564045e-05],\n",
       "       [ -1.81588419e-05,  -2.28939886e-05,  -2.28458985e-05,\n",
       "         -1.79359919e-05,  -9.18894866e-06,   1.48961526e-06,\n",
       "          1.17439057e-05,   1.93082583e-05,   2.25310943e-05,\n",
       "          2.07592555e-05,   1.44913884e-05,   5.26290706e-06,\n",
       "         -4.71180926e-06,  -1.30569238e-05,  -1.77912844e-05,\n",
       "         -1.77926380e-05,  -1.30607359e-05,  -4.71738695e-06,\n",
       "          5.25655345e-06,   1.44853368e-05,   2.07544494e-05,\n",
       "          2.25281549e-05,   1.93073733e-05,   1.17448160e-05,\n",
       "          1.49170159e-06,  -9.18650360e-06,  -1.79340041e-05,\n",
       "         -2.28449934e-05,  -2.28944651e-05,  -1.81606190e-05],\n",
       "       [ -2.22895459e-05,  -2.54341808e-05,  -2.29917292e-05,\n",
       "         -1.52851214e-05,  -3.87811445e-06,   8.74084464e-06,\n",
       "          1.96995568e-05,   2.63878285e-05,   2.70608953e-05,\n",
       "          2.12601909e-05,   9.95091910e-06,  -4.66026879e-06,\n",
       "         -1.95909261e-05,  -3.17295889e-05,  -3.85188565e-05,\n",
       "         -3.85204670e-05,  -3.17341297e-05,  -1.95975853e-05,\n",
       "         -4.66788355e-06,   9.94362264e-06,   2.12543391e-05,\n",
       "          2.70572471e-05,   2.63866415e-05,   1.97005649e-05,\n",
       "          8.74335040e-06,  -3.87505868e-06,  -1.52824861e-05,\n",
       "         -2.29902871e-05,  -2.54343433e-05,  -2.22912899e-05],\n",
       "       [ -2.55915391e-05,  -2.69082387e-05,  -2.19516834e-05,\n",
       "         -1.14762262e-05,   2.40290542e-06,   1.66206193e-05,\n",
       "          2.78113409e-05,   3.30562662e-05,   3.05610078e-05,\n",
       "          2.01073213e-05,   3.17009948e-06,  -1.73356487e-05,\n",
       "         -3.76301269e-05,  -5.38452171e-05,  -6.28339899e-05,\n",
       "         -6.28358222e-05,  -5.38503840e-05,  -3.76377064e-05,\n",
       "         -1.73443176e-05,   3.16179549e-06,   2.01006760e-05,\n",
       "          3.05569044e-05,   3.30550216e-05,   2.78126756e-05,\n",
       "          1.66237544e-05,   2.40676265e-06,  -1.14727708e-05,\n",
       "         -2.19495493e-05,  -2.69079498e-05,  -2.55931319e-05],\n",
       "       [ -2.80350409e-05,  -2.74555748e-05,  -2.00466348e-05,\n",
       "         -6.99225590e-06,   9.06228701e-06,   2.45119456e-05,\n",
       "          3.55425291e-05,   3.89710137e-05,   3.29895069e-05,\n",
       "          1.76421911e-05,  -5.08070146e-06,  -3.15653615e-05,\n",
       "         -5.72549043e-05,  -7.75489098e-05,  -8.87322387e-05,\n",
       "         -8.87342513e-05,  -7.75545828e-05,  -5.72632185e-05,\n",
       "         -3.15748521e-05,  -5.08975558e-06,   1.76350132e-05,\n",
       "          3.29851946e-05,   3.89699314e-05,   3.55443781e-05,\n",
       "          2.45158667e-05,   9.06707688e-06,  -6.98786674e-06,\n",
       "         -2.00437043e-05,  -2.74547339e-05,  -2.80363839e-05],\n",
       "       [ -2.96967740e-05,  -2.73299590e-05,  -1.77078075e-05,\n",
       "         -2.40917255e-06,   1.54461150e-05,   3.17792458e-05,\n",
       "          4.23917703e-05,   4.38862704e-05,   3.44663803e-05,\n",
       "          1.44332758e-05,  -1.37431700e-05,  -4.58101347e-05,\n",
       "         -7.65064786e-05,  -1.00571572e-04,  -1.13779594e-04,\n",
       "         -1.13781744e-04,  -1.00577628e-04,  -7.65153407e-05,\n",
       "         -4.58202200e-05,  -1.37527337e-05,   1.44257936e-05,\n",
       "          3.44620548e-05,   4.38855009e-05,   4.23942364e-05,\n",
       "          3.17840141e-05,   1.54518697e-05,  -2.40383025e-06,\n",
       "         -1.77040586e-05,  -2.73285297e-05,  -2.96978110e-05],\n",
       "       [ -3.07230583e-05,  -2.68450626e-05,  -1.54082816e-05,\n",
       "          1.67994341e-06,   2.09122247e-05,   3.78286439e-05,\n",
       "          4.79274075e-05,   4.76494215e-05,   3.52221375e-05,\n",
       "          1.11702052e-05,  -2.16333425e-05,  -5.84052088e-05,\n",
       "         -9.33033826e-05,  -1.20524755e-04,  -1.35424845e-04,\n",
       "         -1.35427092e-04,  -1.20531080e-04,  -9.33126223e-05,\n",
       "         -5.84156894e-05,  -2.16432180e-05,   1.11625866e-05,\n",
       "          3.52179148e-05,   4.76490181e-05,   4.79304819e-05,\n",
       "          3.78342004e-05,   2.09188553e-05,   1.68614366e-06,\n",
       "         -1.54037929e-05,  -2.68430892e-05,  -3.07237898e-05],\n",
       "       [ -3.12830109e-05,  -2.63115005e-05,  -1.35884082e-05,\n",
       "          4.74354110e-06,   2.49027094e-05,   4.21623086e-05,\n",
       "          5.18109885e-05,   5.01818083e-05,   3.55261591e-05,\n",
       "          8.53357080e-06,  -2.76318868e-05,  -6.78071340e-05,\n",
       "         -1.05736108e-04,  -1.35230011e-04,  -1.51347168e-04,\n",
       "         -1.51349476e-04,  -1.35236504e-04,  -1.05745579e-04,\n",
       "         -6.78178483e-05,  -2.76419294e-05,   8.52591304e-06,\n",
       "          3.55220679e-05,   5.01817216e-05,   5.18145481e-05,\n",
       "          4.21684737e-05,   2.49100063e-05,   4.75039064e-06,\n",
       "         -1.35833580e-05,  -2.63091083e-05,  -3.12834970e-05],\n",
       "       [ -3.15215261e-05,  -2.59764575e-05,  -1.25866708e-05,\n",
       "          6.38229701e-06,   2.70067513e-05,   4.44225247e-05,\n",
       "          5.38112697e-05,   5.14521811e-05,   3.56112156e-05,\n",
       "          7.06537955e-06,  -3.08687263e-05,  -7.28299252e-05,\n",
       "         -1.12346726e-04,  -1.43029963e-04,  -1.59783704e-04,\n",
       "         -1.59786042e-04,  -1.43036535e-04,  -1.12356306e-04,\n",
       "         -7.28407462e-05,  -3.08788389e-05,   7.05771962e-06,\n",
       "          3.56072110e-05,   5.14522765e-05,   5.38150980e-05,\n",
       "          4.44290213e-05,   2.70144082e-05,   6.38949638e-06,\n",
       "         -1.25813176e-05,  -2.59738376e-05,  -3.15218757e-05],\n",
       "       [ -3.15215261e-05,  -2.59764575e-05,  -1.25866708e-05,\n",
       "          6.38229701e-06,   2.70067513e-05,   4.44225247e-05,\n",
       "          5.38112697e-05,   5.14521811e-05,   3.56112156e-05,\n",
       "          7.06537955e-06,  -3.08687263e-05,  -7.28299252e-05,\n",
       "         -1.12346726e-04,  -1.43029963e-04,  -1.59783704e-04,\n",
       "         -1.59786042e-04,  -1.43036535e-04,  -1.12356306e-04,\n",
       "         -7.28407462e-05,  -3.08788389e-05,   7.05771962e-06,\n",
       "          3.56072110e-05,   5.14522765e-05,   5.38150980e-05,\n",
       "          4.44290213e-05,   2.70144082e-05,   6.38949638e-06,\n",
       "         -1.25813176e-05,  -2.59738376e-05,  -3.15218757e-05],\n",
       "       [ -3.12830109e-05,  -2.63115005e-05,  -1.35884082e-05,\n",
       "          4.74354110e-06,   2.49027094e-05,   4.21623086e-05,\n",
       "          5.18109885e-05,   5.01818083e-05,   3.55261591e-05,\n",
       "          8.53357080e-06,  -2.76318868e-05,  -6.78071340e-05,\n",
       "         -1.05736108e-04,  -1.35230011e-04,  -1.51347168e-04,\n",
       "         -1.51349476e-04,  -1.35236504e-04,  -1.05745579e-04,\n",
       "         -6.78178483e-05,  -2.76419294e-05,   8.52591304e-06,\n",
       "          3.55220679e-05,   5.01817216e-05,   5.18145481e-05,\n",
       "          4.21684737e-05,   2.49100063e-05,   4.75039064e-06,\n",
       "         -1.35833580e-05,  -2.63091083e-05,  -3.12834970e-05],\n",
       "       [ -3.07230583e-05,  -2.68450626e-05,  -1.54082816e-05,\n",
       "          1.67994341e-06,   2.09122247e-05,   3.78286439e-05,\n",
       "          4.79274075e-05,   4.76494215e-05,   3.52221375e-05,\n",
       "          1.11702052e-05,  -2.16333425e-05,  -5.84052088e-05,\n",
       "         -9.33033826e-05,  -1.20524755e-04,  -1.35424845e-04,\n",
       "         -1.35427092e-04,  -1.20531080e-04,  -9.33126223e-05,\n",
       "         -5.84156894e-05,  -2.16432180e-05,   1.11625866e-05,\n",
       "          3.52179148e-05,   4.76490181e-05,   4.79304819e-05,\n",
       "          3.78342004e-05,   2.09188553e-05,   1.68614366e-06,\n",
       "         -1.54037929e-05,  -2.68430892e-05,  -3.07237898e-05],\n",
       "       [ -2.96967740e-05,  -2.73299590e-05,  -1.77078075e-05,\n",
       "         -2.40917255e-06,   1.54461150e-05,   3.17792458e-05,\n",
       "          4.23917703e-05,   4.38862704e-05,   3.44663803e-05,\n",
       "          1.44332758e-05,  -1.37431700e-05,  -4.58101347e-05,\n",
       "         -7.65064786e-05,  -1.00571572e-04,  -1.13779594e-04,\n",
       "         -1.13781744e-04,  -1.00577628e-04,  -7.65153407e-05,\n",
       "         -4.58202200e-05,  -1.37527337e-05,   1.44257936e-05,\n",
       "          3.44620548e-05,   4.38855009e-05,   4.23942364e-05,\n",
       "          3.17840141e-05,   1.54518697e-05,  -2.40383025e-06,\n",
       "         -1.77040586e-05,  -2.73285297e-05,  -2.96978110e-05],\n",
       "       [ -2.80350409e-05,  -2.74555748e-05,  -2.00466348e-05,\n",
       "         -6.99225590e-06,   9.06228701e-06,   2.45119456e-05,\n",
       "          3.55425291e-05,   3.89710137e-05,   3.29895069e-05,\n",
       "          1.76421911e-05,  -5.08070146e-06,  -3.15653615e-05,\n",
       "         -5.72549043e-05,  -7.75489098e-05,  -8.87322387e-05,\n",
       "         -8.87342513e-05,  -7.75545828e-05,  -5.72632185e-05,\n",
       "         -3.15748521e-05,  -5.08975558e-06,   1.76350132e-05,\n",
       "          3.29851946e-05,   3.89699314e-05,   3.55443781e-05,\n",
       "          2.45158667e-05,   9.06707688e-06,  -6.98786674e-06,\n",
       "         -2.00437043e-05,  -2.74547339e-05,  -2.80363839e-05],\n",
       "       [ -2.55915391e-05,  -2.69082387e-05,  -2.19516834e-05,\n",
       "         -1.14762262e-05,   2.40290542e-06,   1.66206193e-05,\n",
       "          2.78113409e-05,   3.30562662e-05,   3.05610078e-05,\n",
       "          2.01073213e-05,   3.17009948e-06,  -1.73356487e-05,\n",
       "         -3.76301269e-05,  -5.38452171e-05,  -6.28339899e-05,\n",
       "         -6.28358222e-05,  -5.38503840e-05,  -3.76377064e-05,\n",
       "         -1.73443176e-05,   3.16179549e-06,   2.01006760e-05,\n",
       "          3.05569044e-05,   3.30550216e-05,   2.78126756e-05,\n",
       "          1.66237544e-05,   2.40676265e-06,  -1.14727708e-05,\n",
       "         -2.19495493e-05,  -2.69079498e-05,  -2.55931319e-05],\n",
       "       [ -2.22895459e-05,  -2.54341808e-05,  -2.29917292e-05,\n",
       "         -1.52851214e-05,  -3.87811445e-06,   8.74084464e-06,\n",
       "          1.96995568e-05,   2.63878285e-05,   2.70608953e-05,\n",
       "          2.12601909e-05,   9.95091910e-06,  -4.66026879e-06,\n",
       "         -1.95909261e-05,  -3.17295889e-05,  -3.85188565e-05,\n",
       "         -3.85204670e-05,  -3.17341297e-05,  -1.95975853e-05,\n",
       "         -4.66788355e-06,   9.94362264e-06,   2.12543391e-05,\n",
       "          2.70572471e-05,   2.63866415e-05,   1.97005649e-05,\n",
       "          8.74335040e-06,  -3.87505868e-06,  -1.52824861e-05,\n",
       "         -2.29902871e-05,  -2.54343433e-05,  -2.22912899e-05],\n",
       "       [ -1.81588419e-05,  -2.28939886e-05,  -2.28458985e-05,\n",
       "         -1.79359919e-05,  -9.18894866e-06,   1.48961526e-06,\n",
       "          1.17439057e-05,   1.93082583e-05,   2.25310943e-05,\n",
       "          2.07592555e-05,   1.44913884e-05,   5.26290706e-06,\n",
       "         -4.71180926e-06,  -1.30569238e-05,  -1.77912844e-05,\n",
       "         -1.77926380e-05,  -1.30607359e-05,  -4.71738695e-06,\n",
       "          5.25655345e-06,   1.44853368e-05,   2.07544494e-05,\n",
       "          2.25281549e-05,   1.93073733e-05,   1.17448160e-05,\n",
       "          1.49170159e-06,  -9.18650360e-06,  -1.79340041e-05,\n",
       "         -2.28449934e-05,  -2.28944651e-05,  -1.81606190e-05],\n",
       "       [ -1.33547058e-05,  -1.92988416e-05,  -2.13554479e-05,\n",
       "         -1.91016406e-05,  -1.30662535e-05,  -4.59524545e-06,\n",
       "          4.47233349e-06,   1.22396857e-05,   1.71943595e-05,\n",
       "          1.85513391e-05,   1.64157269e-05,   1.17276113e-05,\n",
       "          6.00468717e-06,   9.47268347e-07,  -1.99642621e-06,\n",
       "         -1.99749904e-06,   9.44254906e-07,   6.00030318e-06,\n",
       "          1.17226670e-05,   1.64110971e-05,   1.85477765e-05,\n",
       "          1.71923399e-05,   1.22393200e-05,   4.47336365e-06,\n",
       "         -4.59336588e-06,  -1.30642164e-05,  -1.91001126e-05,\n",
       "         -2.13549123e-05,  -1.92994902e-05,  -1.33564045e-05],\n",
       "       [ -8.15418120e-06,  -1.48218535e-05,  -1.85507815e-05,\n",
       "         -1.86515629e-05,  -1.52258871e-05,  -9.10938952e-06,\n",
       "         -1.64630554e-06,   5.64552336e-06,   1.14353869e-05,\n",
       "          1.48778266e-05,   1.57771122e-05,   1.45816734e-05,\n",
       "          1.22152658e-05,   9.79256981e-06,   8.29538985e-06,\n",
       "          8.29460578e-06,   9.79037939e-06,   1.22121173e-05,\n",
       "          1.45781991e-05,   1.57739850e-05,   1.48756095e-05,\n",
       "          1.14344102e-05,   5.64581934e-06,  -1.64499762e-06,\n",
       "         -9.10754918e-06,  -1.52240889e-05,  -1.86503332e-05,\n",
       "         -1.85504714e-05,  -1.48225571e-05,  -8.15571924e-06],\n",
       "       [ -2.92896288e-06,  -9.78205995e-06,  -1.46495006e-05,\n",
       "         -1.66654390e-05,  -1.55913978e-05,  -1.18231811e-05,\n",
       "         -6.25249432e-06,  -2.41033999e-08,   5.74684562e-06,\n",
       "          1.02257182e-05,   1.30170015e-05,   1.41961991e-05,\n",
       "          1.42146334e-05,   1.37099721e-05,   1.32791279e-05,\n",
       "          1.32786222e-05,   1.37085757e-05,   1.42126788e-05,\n",
       "          1.41941498e-05,   1.30153390e-05,   1.02248259e-05,\n",
       "          5.74691625e-06,  -2.31118524e-08,  -6.25084555e-06,\n",
       "         -1.18212926e-05,  -1.55897360e-05,  -1.66644024e-05,\n",
       "         -1.46493212e-05,  -9.78274681e-06,  -2.93030099e-06],\n",
       "       [  1.90137670e-06,  -4.60325714e-06,  -1.00258067e-05,\n",
       "         -1.34173958e-05,  -1.42963389e-05,  -1.27038808e-05,\n",
       "         -9.13846222e-06,  -4.39399976e-06,   6.50563266e-07,\n",
       "          5.23440035e-06,   8.86053523e-06,   1.13525874e-05,\n",
       "          1.28167946e-05,   1.35296870e-05,   1.37912277e-05,\n",
       "          1.37909714e-05,   1.35290015e-05,   1.28159078e-05,\n",
       "          1.13518099e-05,   8.86017625e-06,   5.23468228e-06,\n",
       "          6.51557320e-07,  -4.39239933e-06,  -9.13651827e-06,\n",
       "         -1.27019521e-05,  -1.42947930e-05,  -1.34165169e-05,\n",
       "         -1.00257234e-05,  -4.60390760e-06,   1.90023211e-06],\n",
       "       [  5.92832706e-06,   2.45786004e-07,  -5.15607929e-06,\n",
       "         -9.33345986e-06,  -1.16598263e-05,  -1.19147170e-05,\n",
       "         -1.02749197e-05,  -7.22088266e-06,  -3.39056601e-06,\n",
       "          5.77303609e-07,   4.17041267e-06,   7.07248759e-06,\n",
       "          9.16608935e-06,   1.04791076e-05,   1.11008916e-05,\n",
       "          1.11008399e-05,   1.04790038e-05,   9.16607091e-06,\n",
       "          7.07273460e-06,   4.17108808e-06,   5.78495063e-07,\n",
       "         -3.38888641e-06,  -7.21886836e-06,  -1.02728252e-05,\n",
       "         -1.19128434e-05,  -1.16584511e-05,  -9.33276733e-06,\n",
       "         -5.15611109e-06,   2.45146846e-07,   5.92733322e-06],\n",
       "       [  8.81558700e-06,   4.31998375e-06,  -5.49203572e-07,\n",
       "         -4.92854600e-06,  -8.13840962e-06,  -9.78968861e-06,\n",
       "         -9.81594316e-06,  -8.43394361e-06,  -6.05233320e-06,\n",
       "         -3.15810603e-06,  -2.11841540e-07,   2.42442786e-06,\n",
       "          4.51557836e-06,   5.94124128e-06,   6.65819430e-06,\n",
       "          6.65829126e-06,   5.94155739e-06,   4.51617851e-06,\n",
       "          2.42538746e-06,  -2.10474982e-07,  -3.15634835e-06,\n",
       "         -6.05028419e-06,  -8.43178466e-06,  -9.81391007e-06,\n",
       "         -9.78802476e-06,  -8.13731070e-06,  -4.92811060e-06,\n",
       "         -5.49403355e-07,   4.31930498e-06,   8.81468299e-06],\n",
       "       [  1.03517700e-05,   7.26412271e-06,   3.32737683e-06,\n",
       "         -7.32376097e-07,  -4.26076991e-06,  -6.78644906e-06,\n",
       "         -8.07905284e-06,  -8.14982370e-06,  -7.20466857e-06,\n",
       "         -5.56908005e-06,  -3.60758766e-06,  -1.65723950e-06,\n",
       "          1.33380923e-08,   1.21765166e-06,   1.84485623e-06,\n",
       "          1.84504155e-06,   1.21821342e-06,   1.42871466e-08,\n",
       "         -1.65590439e-06,  -3.60590133e-06,  -5.56712841e-06,\n",
       "         -7.20259416e-06,  -8.14781463e-06,  -8.07731508e-06,\n",
       "         -6.78516731e-06,  -4.26006633e-06,  -7.32277891e-07,\n",
       "          3.32695115e-06,   7.26335280e-06,   1.03508992e-05]])"
      ]
     },
     "execution_count": 168,
     "metadata": {},
     "output_type": "execute_result"
    }
   ],
   "source": [
    "vy"
   ]
  },
  {
   "cell_type": "code",
   "execution_count": null,
   "metadata": {
    "collapsed": true
   },
   "outputs": [],
   "source": []
  }
 ],
 "metadata": {
  "kernelspec": {
   "display_name": "Python 3",
   "language": "python",
   "name": "python3"
  },
  "language_info": {
   "codemirror_mode": {
    "name": "ipython",
    "version": 3
   },
   "file_extension": ".py",
   "mimetype": "text/x-python",
   "name": "python",
   "nbconvert_exporter": "python",
   "pygments_lexer": "ipython3",
   "version": "3.4.0"
  }
 },
 "nbformat": 4,
 "nbformat_minor": 0
}
