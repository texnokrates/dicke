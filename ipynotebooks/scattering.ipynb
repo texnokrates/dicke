{
 "cells": [
  {
   "cell_type": "code",
   "execution_count": 193,
   "metadata": {
    "collapsed": true
   },
   "outputs": [],
   "source": [
    "import numpy as np\n",
    "import cmath\n",
    "import math\n",
    "from sklearn.preprocessing import normalize\n",
    "from scipy.constants import epsilon_0 as ε_0, c, pi as π, e, hbar as ℏ\n",
    "eV = e\n",
    "from scipy.special import lpmn, sph_jn, sph_yn\n",
    "from scipy.misc import factorial\n",
    "from numpy import newaxis as nx\n",
    "\n",
    "I = np.identity(3)"
   ]
  },
  {
   "cell_type": "markdown",
   "metadata": {},
   "source": [
    "## Green's functions\n",
    "All vectors are expected to be in cartesian coordinates. Arguments and return values are in form of arrays (\"lists\") to enable fast batch processing.\n",
    "### Free space"
   ]
  },
  {
   "cell_type": "code",
   "execution_count": 23,
   "metadata": {
    "collapsed": false
   },
   "outputs": [],
   "source": [
    "# Transverse delta; invalit at r1 = r2\n",
    "def δ_T(r1, r2):\n",
    "    print(\"Not implemented\")\n",
    "    return\n",
    "\n",
    "# Longitudinal delta; invalid at r1 = r2\n",
    "def δ_L(r1, r2):\n",
    "    print(\"Not implemented\")\n",
    "    return\n",
    "\n",
    "def G_fs(r1, r2, ω):\n",
    "    r12 = np.linalg.norm((r1-r2), axis=1)\n",
    "    g = np.exp(1j * r12 * ω/c) / (4*π*r12)\n",
    "    return np.outer(g, I)    \n",
    "\n",
    "def K_fs(r1, r2, ω):\n",
    "    print(\"Not implemented\")\n",
    "    return"
   ]
  },
  {
   "cell_type": "markdown",
   "metadata": {},
   "source": [
    "### Spherical particle (Mie solution)\n",
    "TODO"
   ]
  },
  {
   "cell_type": "code",
   "execution_count": 307,
   "metadata": {
    "collapsed": false
   },
   "outputs": [],
   "source": [
    "# r[:,0] = x = r sin θ cos φ\n",
    "# r[:,1] = y = r sin θ sin φ\n",
    "# r[:,2] = z = r cos θ\n",
    "def spherical_vector_waves(nmax, k, r):\n",
    "    # FIXME the implementation is _wrong_ very near z axis\n",
    "    # and the problem remains in the derivatives of Legendre polynomials\n",
    "    # k is single scalar, r is single 3D vector\n",
    "    r.shape = (3) # FIXME do proper check\n",
    "    ρ = np.linalg.norm(r)\n",
    "    r̂ = r/ρ\n",
    "    cosθ = r̂[2]\n",
    "    sinθ = np.sqrt(1-cosθ*cosθ) # FIXME np->math\n",
    "    cosφ = r̂[0]/sinθ if sinθ else 0 # avoid zero division here\n",
    "    sinφ = r̂[1]/sinθ if sinθ else 1\n",
    "    φ = np.arctan2(sinφ,cosφ)\n",
    "    # TODO can those be views so I don't have to write the indices\n",
    "    # explicitly?\n",
    "    m = np.arange(nmax+1)\n",
    "    n = m\n",
    "    sinmφ = np.sin(m*φ)\n",
    "    cosmφ = np.cos(m*φ)\n",
    "    θ̂ = np.array([cosθ*cosφ,cosθ*sinφ,-sinθ])\n",
    "    φ̂ = np.array([-sinφ, cosφ, 0])\n",
    "    jnkr2 = sph_jn(nmax, k*ρ)\n",
    "    # scipy.special.lpmn is for real arguments (see also clpmn)\n",
    "    # + derivatives\n",
    "    # m's are non-negative, cf. Bohren&Huffman (4.23)\n",
    "    Pmn2 = lpmn(nmax, nmax, cosθ)\n",
    "    \n",
    "    # FIXME this is _wrong_ very near z axis – but it avoids nan \n",
    "    # and should give correct result exactly on z axis\n",
    "    mdsinθ = m/(sinθ if sinθ else 1)\n",
    "    \n",
    "    Memn = (-mdsinθ[:,nx] * jnkr2[0][nx,:] * \n",
    "         Pmn2[0] * sinmφ[:,nx])[:,:,nx] * θ̂ [nx,nx,:] + (\n",
    "         + sinθ * jnkr2[0][nx,:] * Pmn2[1] * cosmφ[:,nx])[:,:,nx] * φ̂ [nx,nx,:]\n",
    "    Momn = (mdsinθ[:,nx] * jnkr2[0][nx,:] * \n",
    "         Pmn2[0] * cosmφ[:,nx])[:,:,nx] * θ̂ [nx,nx,:] + (\n",
    "         + sinθ * jnkr2[0][nx,:] * Pmn2[1] * sinmφ[:,nx])[:,:,nx] * φ̂ [nx,nx,:]\n",
    "    Npfac = jnkr2[0]/(k*ρ) + jnkr2[1]\n",
    "    Nemn = (((n*(n+1)/(k*ρ))*jnkr2[0])[nx,:]\n",
    "         * Pmn2[0] * cosmφ[:,nx])[:,:,nx] * r̂[nx,nx,:] + ( Npfac[nx,:] *\n",
    "         (-sinθ) * Pmn2[1] * cosmφ[:,nx])[:,:,nx] * θ̂ [nx,nx,:] + (\n",
    "         Npfac[nx,:] * (-mdsinθ)[:,nx] * Pmn2[0] * sinmφ[:,nx])[:,:,nx] * φ̂ [nx,nx,:]\n",
    "    Nomn = (((n*(n+1)/(k*ρ))*jnkr2[0])[nx,:]\n",
    "         * Pmn2[0] * sinmφ[:,nx])[:,:,nx] * r̂[nx,nx,:] + ( Npfac[nx,:] *\n",
    "         (-sinθ) * Pmn2[1] * sinmφ[:,nx])[:,:,nx] * θ̂ [nx,nx,:] + (\n",
    "         Npfac[nx,:] * mdsinθ[:,nx] * Pmn2[0] * cosmφ[:,nx])[:,:,nx] * φ̂ [nx,nx,:]\n",
    "    return (Memn, Momn, Nemn, Nomn)\n",
    "\n",
    "#TODO: test against my old code (electroballz)!\n",
    "def mie_reflection_coefficients(a, nmax, ε_m, ε_b, ω):\n",
    "    # permittivities are relative!\n",
    "    # cf. PRB 85, 075303, Appendix\n",
    "    # assuming unit rel. permeability\n",
    "    # for general permeability, cf. van Vlack's\n",
    "    # dissertation, pp. 41–42\n",
    "    #print(\"a, nmax, ε_m, ε_b, ω\",a, nmax, ε_m, ε_b, ω)\n",
    "    k_m = cmath.sqrt(ε_m) * ω / c\n",
    "    x_m = k_m * a\n",
    "    k_b = cmath.sqrt(ε_b) * ω / c\n",
    "    x_b = k_b * a\n",
    "    #print(\"k_m, x_m,k_b,x_b\",k_m, x_m,k_b,x_b)\n",
    "    jnka2_m = sph_jn(nmax, x_m)\n",
    "    jnka2_b = sph_jn(nmax, x_b)\n",
    "    ynka2_m = sph_yn(nmax, x_m)\n",
    "    ynka2_b = sph_yn(nmax, x_b)\n",
    "    #print(\"bessel funs\",jnka2_m, jnka2_b, ynka2_m, ynka2_b)\n",
    "    τ_m = jnka2_m[0]\n",
    "    τ_b = jnka2_b[0]\n",
    "    κ_m = τ_m + 1j * ynka2_m[0]\n",
    "    κ_b = τ_b + 1j * ynka2_b[0]\n",
    "    dτ_m = τ_m / x_m + jnka2_m[1]\n",
    "    dτ_b = τ_b / x_b + jnka2_b[1]\n",
    "    dκ_m = κ_m / x_m + jnka2_m[1] + 1j * ynka2_m[1]\n",
    "    dκ_b = κ_b / x_b + jnka2_b[1] + 1j * ynka2_b[1]\n",
    "    #print(\"bessel funs processed\",τ_m,τ_b,κ_m,κ_b,dτ_m,dτ_b,dκ_m,dκ_b)\n",
    "    RH = (k_m*dτ_m*τ_b - k_b*dτ_b*τ_m) / (k_m*dτ_m*κ_b - k_b*dκ_b*τ_m)\n",
    "    RV = (k_m*τ_m*dτ_b - k_b*τ_b*dτ_m) / (k_m*τ_m*dκ_b - k_b*κ_b*dτ_m)\n",
    "    return (RH, RV)\n",
    "    \n",
    "def mie_G_scatt(a, nmax, ε_m, ε_b, ω, r1, r2):\n",
    "    # the same applies as for mie_reflection_coefficients\n",
    "    (RH, RV) = mie_reflection_coefficients(a=a, nmax=nmax, ε_m=ε_m, ε_b=ε_b, ω=ω)\n",
    "    #print(RH,RV)\n",
    "    G = mie_G_scatt_precalcd(a=a, nmax=nmax, ε_b=ε_b, ω=ω, RH=RH, RV=RV, r1=r1, r2=r2)\n",
    "    return G\n",
    "\n",
    "def mie_G_scatt_precalcd(a, nmax, ε_b, ω, RH, RV, r1, r2):\n",
    "    k_b = cmath.sqrt(ε_b) * ω / c\n",
    "    n = np.arange(nmax + 1)\n",
    "    m = np.arange(nmax + 1)\n",
    "    # avoid zero division:\n",
    "    n[0] = 1 \n",
    "    oneminusδn = np.ones(nmax+1)\n",
    "    oneminusδn[0] = 0\n",
    "    \n",
    "    twominusδm = np.ones(nmax+1) * 2\n",
    "    twominusδm[0] = 1\n",
    "    prefactor = (-1j * k_b / (4 * π)) * twominusδm[:,nx] * (\n",
    "      (2*n+1)/(n*(n+1)))[nx,:] * (factorial(n[nx,:]-m[:,nx])\n",
    "      / factorial(n[nx,:]+m[:,nx])) * oneminusδn [nx,:]\n",
    "    (Me1, Mo1, Ne1, No1) = spherical_vector_waves(nmax, k_b, r1)\n",
    "    (Me2, Mo2, Ne2, No2) = spherical_vector_waves(nmax, k_b, r2)\n",
    "    G_contribs = prefactor[:,:,nx,nx] * (\n",
    "        RH[nx,:,nx,nx] \n",
    "        * (Me1[:,:,:,nx] \n",
    "           * Me2[:,:,nx,:]                \n",
    "           + Mo1[:,:,:,nx] \n",
    "           * Mo2[:,:,nx,:])\n",
    "       +RV[nx,:,nx,nx] * (Ne1[:,:,:,nx] * Ne2[:,:,nx,:]\n",
    "                          + No1[:,:,:,nx] * No2[:,:,nx,:]) \n",
    "    )\n",
    "    return np.sum(G_contribs, axis=(0,1))\n"
   ]
  },
  {
   "cell_type": "code",
   "execution_count": null,
   "metadata": {
    "collapsed": true
   },
   "outputs": [],
   "source": []
  },
  {
   "cell_type": "markdown",
   "metadata": {},
   "source": [
    "## T-matrix"
   ]
  },
  {
   "cell_type": "code",
   "execution_count": null,
   "metadata": {
    "collapsed": true
   },
   "outputs": [],
   "source": [
    "\n",
    "\n",
    "def M(G, ω, R, μ): # as in PRA 70, 053823, eq. (37)\n",
    "    #M = eye(N)\n",
    "    \n",
    "    "
   ]
  },
  {
   "cell_type": "markdown",
   "metadata": {},
   "source": [
    "### Material parameters"
   ]
  },
  {
   "cell_type": "code",
   "execution_count": 277,
   "metadata": {
    "collapsed": false
   },
   "outputs": [],
   "source": [
    "def ε_drude(ε_inf, ω_p, γ_p, ω): # RELATIVE permittivity, of course\n",
    "    return ε_inf - ω_p*ω_p/(ω*(ω+1j*γ_p))"
   ]
  },
  {
   "cell_type": "markdown",
   "metadata": {},
   "source": [
    "# Examples\n",
    "Single atom near a nanoparticle, as in PRL 112, 253601.\n",
    "We want to reproduce part of figure 4.\n",
    "\n",
    "The ordering of R, r_n arguments in eq. (4) has to be checked"
   ]
  },
  {
   "cell_type": "code",
   "execution_count": 268,
   "metadata": {
    "collapsed": false
   },
   "outputs": [
    {
     "data": {
      "text/plain": [
       "{'divide': 'raise', 'invalid': 'warn', 'over': 'warn', 'under': 'ignore'}"
      ]
     },
     "execution_count": 268,
     "metadata": {},
     "output_type": "execute_result"
    }
   ],
   "source": [
    "%matplotlib inline\n",
    "import matplotlib.pyplot as plt"
   ]
  },
  {
   "cell_type": "markdown",
   "metadata": {},
   "source": [
    "### Single source atom"
   ]
  },
  {
   "cell_type": "code",
   "execution_count": 351,
   "metadata": {
    "collapsed": false
   },
   "outputs": [
    {
     "data": {
      "text/plain": [
       "[<matplotlib.lines.Line2D at 0x7f5f71db0a90>]"
      ]
     },
     "execution_count": 351,
     "metadata": {},
     "output_type": "execute_result"
    },
    {
     "data": {
      "image/png": "[encoded data removed]",
      "text/plain": [
       "<matplotlib.figure.Figure at 0x7f5f7b155358>"
      ]
     },
     "metadata": {},
     "output_type": "display_data"
    }
   ],
   "source": [
    "a = 7e-9\n",
    "r1 = np.array([8e-9,0,0]) # atom position\n",
    "ω_p = 9*eV/ℏ\n",
    "#print(ω_p)\n",
    "ε_inf = 4.6\n",
    "γ_p = 0.1*eV/ℏ\n",
    "ε_b = 1\n",
    "γ_QE = 0.025*eV/ℏ # Original Delga: 15 meV. Makes the peak too sharp.\n",
    "μ = np.array([0.19e-9*e,0,0])\n",
    "\n",
    "#R = np.array([0,8e-9,0]) # detector position\n",
    "R = np.array([8e-9,8e-10,0])\n",
    "ω_0 = 3.3*eV/ℏ\n",
    "Ω = ω_0+1j*γ_QE\n",
    "startω = 3.2*eV/ℏ\n",
    "stopω = 3.6*eV/ℏ\n",
    "nmax=10\n",
    "\n",
    "ωlist = np.linspace(startω, stopω, 200)\n",
    "Slist = np.empty(shape=ωlist.shape,dtype=float)\n",
    "for i in range(ωlist.shape[0]):\n",
    "    ω = ωlist[i]\n",
    "    ε_m = ε_drude(ε_inf, ω_p, γ_p, ω)\n",
    "    #print (\"ε_m\",ε_m)\n",
    "    G = mie_G_scatt(a=a, nmax=nmax, ε_m=ε_m,\n",
    "                    ε_b=ε_b, ω=ω, r1=R, r2=r1)\n",
    "    pref = np.linalg.norm((ω*ω/(c*c*ε_0))*np.dot(G, μ))**2\n",
    "    postf = 1/abs(ω-Ω)**2+1/abs(ω+Ω)**2\n",
    "    Slist[i] = pref*postf\n",
    "plt.plot(ωlist*ℏ/eV,Slist)\n",
    "    "
   ]
  },
  {
   "cell_type": "markdown",
   "metadata": {},
   "source": [
    "#### FIXME\n",
    "Position of the dipole/detector part does not seem to affect the shape. The most important value seems to be γ_QE, which determines\n",
    "the sharpness of the first peak. I had to set it higher in order to get\n",
    "something more similar to Delga's figure 4."
   ]
  },
  {
   "cell_type": "markdown",
   "metadata": {},
   "source": [
    "# Playground"
   ]
  },
  {
   "cell_type": "code",
   "execution_count": 201,
   "metadata": {
    "collapsed": false
   },
   "outputs": [
    {
     "data": {
      "text/plain": [
       "array([[ 0,  0,  0,  0,  0,  0],\n",
       "       [ 0,  1,  2,  3,  4,  5],\n",
       "       [ 0,  2,  4,  6,  8, 10],\n",
       "       [ 0,  3,  6,  9, 12, 15],\n",
       "       [ 0,  4,  8, 12, 16, 20],\n",
       "       [ 0,  5, 10, 15, 20, 25]])"
      ]
     },
     "execution_count": 201,
     "metadata": {},
     "output_type": "execute_result"
    }
   ],
   "source": [
    "n = np.arange(6)\n",
    "n[:,nx] * n[nx,:]"
   ]
  },
  {
   "cell_type": "code",
   "execution_count": 19,
   "metadata": {
    "collapsed": false
   },
   "outputs": [
    {
     "data": {
      "text/plain": [
       "array([[ 0.03302973+0.04555572j,  0.00000000+0.j        ,\n",
       "         0.00000000+0.j        ,  0.00000000+0.j        ,\n",
       "         0.03302973+0.04555572j,  0.00000000+0.j        ,\n",
       "         0.00000000+0.j        ,  0.00000000+0.j        ,\n",
       "         0.03302973+0.04555572j],\n",
       "       [-0.01107202+0.02410456j, -0.00000000+0.j        ,\n",
       "        -0.00000000+0.j        , -0.00000000+0.j        ,\n",
       "        -0.01107202+0.02410456j, -0.00000000+0.j        ,\n",
       "        -0.00000000+0.j        , -0.00000000+0.j        ,\n",
       "        -0.01107202+0.02410456j]])"
      ]
     },
     "execution_count": 19,
     "metadata": {},
     "output_type": "execute_result"
    }
   ],
   "source": [
    "r = np.array([[1,0,0],[2,2,2]])\n",
    "R = np.array([[0,1,0],[0,1,4]])\n",
    "np.linalg.norm((r-R), axis=1)\n",
    "G_fs(r, R, 2e8)"
   ]
  },
  {
   "cell_type": "code",
   "execution_count": 235,
   "metadata": {
    "collapsed": false
   },
   "outputs": [
    {
     "data": {
      "text/plain": [
       "{'divide': 'raise', 'invalid': 'warn', 'over': 'warn', 'under': 'ignore'}"
      ]
     },
     "execution_count": 235,
     "metadata": {},
     "output_type": "execute_result"
    }
   ],
   "source": [
    "np.seterr(divide='raise')\n",
    "#spherical_vector_waves(5, 1, np.array([0,0.0001,1]))\n"
   ]
  },
  {
   "cell_type": "code",
   "execution_count": 286,
   "metadata": {
    "collapsed": false
   },
   "outputs": [
    {
     "name": "stdout",
     "output_type": "stream",
     "text": [
      "(5e-08, 5, (-3.3024390243902424+0.24695121951219506j), 1, 599584916000000.0)\n"
     ]
    },
    {
     "data": {
      "text/plain": [
       "array([[ -2.32297859e+02 -3.17161350e+01j,\n",
       "          1.20253598e-04 +9.53143048e-06j,\n",
       "          0.00000000e+00 +0.00000000e+00j],\n",
       "       [ -5.42281207e-04 +6.42401046e-06j,\n",
       "         -2.32297859e+02 -3.17161350e+01j,\n",
       "          0.00000000e+00 +0.00000000e+00j],\n",
       "       [  0.00000000e+00 +0.00000000e+00j,\n",
       "          0.00000000e+00 +0.00000000e+00j,\n",
       "         -2.31963212e+02 -3.16704449e+01j]])"
      ]
     },
     "execution_count": 286,
     "metadata": {},
     "output_type": "execute_result"
    }
   ],
   "source": [
    "a=50e-9\n",
    "nmax=5\n",
    "ε_m=-3.3024390243902424+0.24695121951219506j\n",
    "ε_b=1\n",
    "ω=c/500e-9\n",
    "(RH,RV)=mie_reflection_coefficients(a=a, nmax=nmax, ε_m=ε_m, ε_b=ε_b, ω=ω)\n",
    "mie_G_scatt_precalcd(a=a, nmax=nmax, ε_b=ε_b, ω=ω, RH=RH, RV=RV, r1=np.array([60e-9,0,0]), r2=np.array([0,60e-9,0]))"
   ]
  },
  {
   "cell_type": "code",
   "execution_count": 287,
   "metadata": {
    "collapsed": false
   },
   "outputs": [
    {
     "name": "stdout",
     "output_type": "stream",
     "text": [
      "(5e-08, 5, (-3.3024390243902424+0.24695121951219506j), 1, 599584916000000.0)\n",
      "[  8.13818602e-05 +1.40702053e-03j   5.43528767e-08 +9.50836700e-07j\n",
      "   1.56022588e-11 +2.72347866e-10j   2.48098873e-15 +4.32728136e-14j\n",
      "   2.50831510e-19 +4.37326736e-18j   1.75499704e-23 +3.05919479e-22j] [  1.77618510e-01 +3.53782431e-01j   3.00212315e-04 -2.19883911e-03j\n",
      "   6.25115443e-08 -7.88678899e-07j   1.24040855e-11 -1.83448648e-10j\n",
      "   1.63867255e-15 -2.62046092e-14j   1.48111664e-19 -2.48158929e-18j]\n"
     ]
    },
    {
     "data": {
      "text/plain": [
       "array([[ -2.32297859e+02 -3.17161350e+01j,\n",
       "          1.20253598e-04 +9.53143048e-06j,\n",
       "          0.00000000e+00 +0.00000000e+00j],\n",
       "       [ -5.42281207e-04 +6.42401046e-06j,\n",
       "         -2.32297859e+02 -3.17161350e+01j,\n",
       "          0.00000000e+00 +0.00000000e+00j],\n",
       "       [  0.00000000e+00 +0.00000000e+00j,\n",
       "          0.00000000e+00 +0.00000000e+00j,\n",
       "         -2.31963212e+02 -3.16704449e+01j]])"
      ]
     },
     "execution_count": 287,
     "metadata": {},
     "output_type": "execute_result"
    }
   ],
   "source": [
    "mie_G_scatt(a=a, nmax=nmax, ε_m=ε_m, ε_b=ε_b, ω=ω, r1=np.array([60e-9,0,0]), r2=np.array([0,60e-9,0]))\n",
    "#(RH, RV) = mie_reflection_coefficients(a, nmax, ε_m, ε_b, ω)\n",
    "#mie_G_scatt_precalcd(a, nmax, ε_b, ω, RH, RV, r1, r2)m"
   ]
  },
  {
   "cell_type": "code",
   "execution_count": 244,
   "metadata": {
    "collapsed": false
   },
   "outputs": [
    {
     "data": {
      "text/plain": [
       "array([[-2.34147492-2.19632374j,  0.00000000+0.j        ,  0.00000000+0.j        ],\n",
       "       [ 0.00000000+0.j        , -2.33474100-2.1900078j ,  0.00000000+0.j        ],\n",
       "       [ 0.00000000+0.j        ,  0.00000000+0.j        ,\n",
       "        -2.33474100-2.1900078j ]])"
      ]
     },
     "execution_count": 244,
     "metadata": {},
     "output_type": "execute_result"
    }
   ],
   "source": [
    "mie_G_scatt(a=a, nmax=nmax, ε_m=ε_m, ε_b=ε_b, ω=ω, r1=np.array([60e-9,0,0]), r2=np.array([60e-9,0,0]))\n"
   ]
  },
  {
   "cell_type": "code",
   "execution_count": 246,
   "metadata": {
    "collapsed": false
   },
   "outputs": [
    {
     "data": {
      "text/plain": [
       "array([[ -2.33809776e+00 -2.19315598e+00j,\n",
       "          2.02411316e-06 +1.87437796e-06j,\n",
       "          0.00000000e+00 +0.00000000e+00j],\n",
       "       [  5.41975756e-06 +5.64566844e-06j,\n",
       "         -2.33809776e+00 -2.19315598e+00j,\n",
       "          0.00000000e+00 +0.00000000e+00j],\n",
       "       [  0.00000000e+00 +0.00000000e+00j,\n",
       "          0.00000000e+00 +0.00000000e+00j,\n",
       "         -2.33472952e+00 -2.18999654e+00j]])"
      ]
     },
     "execution_count": 246,
     "metadata": {},
     "output_type": "execute_result"
    }
   ],
   "source": [
    "mie_G_scatt(a=a, nmax=5*nmax, ε_m=ε_m, ε_b=ε_b, ω=ω, r1=np.array([60e-9,0,0]), r2=np.array([0,60e-9,0]))\n"
   ]
  },
  {
   "cell_type": "code",
   "execution_count": 251,
   "metadata": {
    "collapsed": false
   },
   "outputs": [
    {
     "data": {
      "text/plain": [
       "2.23606797749979"
      ]
     },
     "execution_count": 251,
     "metadata": {},
     "output_type": "execute_result"
    }
   ],
   "source": [
    "abs(2j+1)"
   ]
  },
  {
   "cell_type": "code",
   "execution_count": 254,
   "metadata": {
    "collapsed": false
   },
   "outputs": [
    {
     "data": {
      "text/plain": [
       "1.4142135623730951"
      ]
     },
     "execution_count": 254,
     "metadata": {},
     "output_type": "execute_result"
    }
   ],
   "source": [
    "np.linalg.norm(np.array([1,1j,0]))"
   ]
  },
  {
   "cell_type": "code",
   "execution_count": null,
   "metadata": {
    "collapsed": true
   },
   "outputs": [],
   "source": []
  }
 ],
 "metadata": {
  "kernelspec": {
   "display_name": "Python 3",
   "language": "python",
   "name": "python3"
  },
  "language_info": {
   "codemirror_mode": {
    "name": "ipython",
    "version": 3
   },
   "file_extension": ".py",
   "mimetype": "text/x-python",
   "name": "python",
   "nbconvert_exporter": "python",
   "pygments_lexer": "ipython3",
   "version": "3.4.0"
  }
 },
 "nbformat": 4,
 "nbformat_minor": 0
}
