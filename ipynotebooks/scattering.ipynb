{
 "cells": [
  {
   "cell_type": "code",
   "execution_count": 178,
   "metadata": {
    "collapsed": true
   },
   "outputs": [],
   "source": [
    "import numpy as np\n",
    "import cmath\n",
    "import math\n",
    "from sklearn.preprocessing import normalize\n",
    "from scipy.constants import epsilon_0 as ε_0, c, pi as π, e, hbar as ℏ\n",
    "eV = e\n",
    "from scipy.special import lpmn, sph_jn, sph_yn\n",
    "from numpy import newaxis as nx\n",
    "\n",
    "I = np.identity(3)"
   ]
  },
  {
   "cell_type": "markdown",
   "metadata": {},
   "source": [
    "## Green's functions\n",
    "All vectors are expected to be in cartesian coordinates. Arguments and return values are in form of arrays (\"lists\") to enable fast batch processing.\n",
    "### Free space"
   ]
  },
  {
   "cell_type": "code",
   "execution_count": 23,
   "metadata": {
    "collapsed": false
   },
   "outputs": [],
   "source": [
    "# Transverse delta; invalit at r1 = r2\n",
    "def δ_T(r1, r2):\n",
    "    print(\"Not implemented\")\n",
    "    return\n",
    "\n",
    "# Longitudinal delta; invalid at r1 = r2\n",
    "def δ_L(r1, r2):\n",
    "    print(\"Not implemented\")\n",
    "    return\n",
    "\n",
    "def G_fs(r1, r2, ω):\n",
    "    r12 = np.linalg.norm((r1-r2), axis=1)\n",
    "    g = np.exp(1j * r12 * ω/c) / (4*π*r12)\n",
    "    return np.outer(g, I)    \n",
    "\n",
    "def K_fs(r1, r2, ω):\n",
    "    print(\"Not implemented\")\n",
    "    return"
   ]
  },
  {
   "cell_type": "markdown",
   "metadata": {},
   "source": [
    "### Spherical particle (Mie solution)\n",
    "TODO"
   ]
  },
  {
   "cell_type": "code",
   "execution_count": 184,
   "metadata": {
    "collapsed": true
   },
   "outputs": [],
   "source": [
    "# r[:,0] = x = r sin θ cos φ\n",
    "# r[:,1] = y = r sin θ sin φ\n",
    "# r[:,2] = z = r cos θ\n",
    "def spherical_vector_waves(nmax, k, r):\n",
    "    # FIXME the implementation is _wrong_ very near z axis\n",
    "    # and the problem remains in the derivatives of Legendre polynomials\n",
    "    # k is single scalar, r is single 3D vector\n",
    "    r.shape = (3) # FIXME do proper check\n",
    "    ρ = np.linalg.norm(r)\n",
    "    r̂ = r/ρ\n",
    "    cosθ = r̂[2]\n",
    "    sinθ = np.sqrt(1-cosθ*cosθ) # FIXME np->math\n",
    "    cosφ = r̂[0]/sinθ if sinθ else 0 # avoid zero division here\n",
    "    sinφ = r̂[1]/sinθ if sinθ else 1\n",
    "    φ = np.arctan2(sinφ,cosφ)\n",
    "    # TODO can those be views so I don't have to write the indices\n",
    "    # explicitly?\n",
    "    m = np.arange(nmax+1)\n",
    "    n = m\n",
    "    sinmφ = np.sin(m*φ)\n",
    "    cosmφ = np.cos(m*φ)\n",
    "    θ̂ = np.array([cosθ*cosφ,cosθ*sinφ,-sinθ])\n",
    "    φ̂ = np.array([-sinφ, cosφ, 0])\n",
    "    jnkr2 = sph_jn(nmax, k*ρ)\n",
    "    # scipy.special.lpmn is for real arguments (see also clpmn)\n",
    "    # + derivatives\n",
    "    # m's are non-negative, cf. Bohren&Huffman (4.23)\n",
    "    Pmn2 = lpmn(nmax, nmax, cosθ)\n",
    "    \n",
    "    # FIXME this is _wrong_ very near z axis – but it avoids nan \n",
    "    # and should give correct result exactly on z axis\n",
    "    mdsinθ = m/(sinθ if sinθ else 1)\n",
    "    \n",
    "    Memn = np.outer(-mdsinθ[:,nx] * jnkr2[0][nx,:] * \n",
    "         Pmn2[0] * sinmφ[:,nx], θ̂ ) + np.outer(\n",
    "         + sinθ * jnkr2[0][nx,:] * Pmn2[1] * cosmφ[:,nx], φ̂ )\n",
    "    Momn = np.outer(mdsinθ[:,nx] * jnkr2[0][nx,:] * \n",
    "         Pmn2[0] * cosmφ[:,nx], θ̂ ) + np.outer(\n",
    "         + sinθ * jnkr2[0][nx,:] * Pmn2[1] * sinmφ[:,nx], φ̂ )\n",
    "    Npfac = jnkr2[0]/(k*ρ) + jnkr2[1]\n",
    "    Nemn = np.outer(((n*(n+1)/(k*ρ))*jnkr2[0])[nx,:]\n",
    "         * Pmn2[0] * cosmφ[:,nx], r̂) + np.outer( Npfac[nx,:] *\n",
    "         (-sinθ) * Pmn2[1] * cosmφ[:,nx], θ̂  ) + np.outer(\n",
    "         Npfac[nx,:] * (-mdsinθ)[:,nx] * Pmn2[0] * sinmφ[:,nx], φ̂ )\n",
    "    Nomn = np.outer(((n*(n+1)/(k*ρ))*jnkr2[0])[nx,:]\n",
    "         * Pmn2[0] * sinmφ[:,nx], r̂) + np.outer( Npfac[nx,:] *\n",
    "         (-sinθ) * Pmn2[1] * sinmφ[:,nx], θ̂  ) + np.outer(\n",
    "         Npfac[nx,:] * mdsinθ[:,nx] * Pmn2[0] * cosmφ[:,nx], φ̂ )\n",
    "    return (Memn, Momn, Nemn, Nomn)\n",
    "\n",
    "#TODO: test against my old code (electroballz)!\n",
    "def mie_reflection_coefficients(a, nmax, ε_m, ε_b, ω):\n",
    "    # permittivities are relative!\n",
    "    # cf. PRB 85, 075303, Appendix\n",
    "    # assuming unit rel. permeability\n",
    "    # for general permeability, cf. van Vlack's\n",
    "    # dissertation, pp. 41–42\n",
    "    k_m = cmath.sqrt(ε_m) * ω / c\n",
    "    x_m = k_m * a\n",
    "    k_b = cmath.sqrt(ε_b) * ω / c\n",
    "    x_b = k_b * a\n",
    "    jnka2_m = sph_jn(nmax, x_m)\n",
    "    jnka2_b = sph_jn(nmax, x_b)\n",
    "    ynka2_m = sph_yn(nmax, x_m)\n",
    "    ynka2_b = sph_yn(nmax, x_b)\n",
    "    τ_m = jnka2_m[0]\n",
    "    τ_b = jnka2_b[0]\n",
    "    κ_m = τ_m + 1j * ynka2_m[0]\n",
    "    κ_b = τ_b + 1j * ynka2_b[0]\n",
    "    dτ_m = τ_m / x_m + jnka2_m[1]\n",
    "    dτ_b = τ_b / x_b + jnka2_b[1]\n",
    "    dκ_m = κ_m / x_m + jnka2_m[1] + 1j * ynka2_m[1]\n",
    "    dκ_b = κ_b / x_b + jnka2_b[1] + 1j * ynka2_b[1]\n",
    "    RH = (k_m*dτ_m*τ_b - k_b*dτ_b*τ_m) / (k_m*dτ_m*κ_b - k_b*dκ_b*τ_m)\n",
    "    RV = (k_m*τ_m*dτ_b - k_b*τ_b*dτ_m) / (k_m*τ_m*dκ_b - k_b*κ_b*dτ_m)\n",
    "    return (RH, RV)\n",
    "    \n",
    "\n"
   ]
  },
  {
   "cell_type": "code",
   "execution_count": null,
   "metadata": {
    "collapsed": true
   },
   "outputs": [],
   "source": []
  },
  {
   "cell_type": "markdown",
   "metadata": {},
   "source": [
    "## T-matrix"
   ]
  },
  {
   "cell_type": "code",
   "execution_count": null,
   "metadata": {
    "collapsed": true
   },
   "outputs": [],
   "source": [
    "\n",
    "\n",
    "def M(G, ω, R, μ): # as in PRA 70, 053823, eq. (37)\n",
    "    #M = eye(N)\n",
    "    \n",
    "    "
   ]
  },
  {
   "cell_type": "markdown",
   "metadata": {},
   "source": [
    "# Examples"
   ]
  },
  {
   "cell_type": "code",
   "execution_count": null,
   "metadata": {
    "collapsed": true
   },
   "outputs": [],
   "source": []
  },
  {
   "cell_type": "markdown",
   "metadata": {},
   "source": [
    "# Playground"
   ]
  },
  {
   "cell_type": "code",
   "execution_count": 19,
   "metadata": {
    "collapsed": false
   },
   "outputs": [
    {
     "data": {
      "text/plain": [
       "array([[ 0.03302973+0.04555572j,  0.00000000+0.j        ,\n",
       "         0.00000000+0.j        ,  0.00000000+0.j        ,\n",
       "         0.03302973+0.04555572j,  0.00000000+0.j        ,\n",
       "         0.00000000+0.j        ,  0.00000000+0.j        ,\n",
       "         0.03302973+0.04555572j],\n",
       "       [-0.01107202+0.02410456j, -0.00000000+0.j        ,\n",
       "        -0.00000000+0.j        , -0.00000000+0.j        ,\n",
       "        -0.01107202+0.02410456j, -0.00000000+0.j        ,\n",
       "        -0.00000000+0.j        , -0.00000000+0.j        ,\n",
       "        -0.01107202+0.02410456j]])"
      ]
     },
     "execution_count": 19,
     "metadata": {},
     "output_type": "execute_result"
    }
   ],
   "source": [
    "r = np.array([[1,0,0],[2,2,2]])\n",
    "R = np.array([[0,1,0],[0,1,4]])\n",
    "np.linalg.norm((r-R), axis=1)\n",
    "G_fs(r, R, 2e8)"
   ]
  },
  {
   "cell_type": "code",
   "execution_count": 163,
   "metadata": {
    "collapsed": false
   },
   "outputs": [
    {
     "data": {
      "text/plain": [
       "(array([[ -0.00000000e+00,   0.00000000e+00,   0.00000000e+00],\n",
       "        [ -3.01168679e-05,   0.00000000e+00,   0.00000000e+00],\n",
       "        [ -1.86105155e-05,   0.00000000e+00,   0.00000000e+00],\n",
       "        [ -5.40394869e-06,   0.00000000e+00,   0.00000000e+00],\n",
       "        [ -1.01101580e-06,   0.00000000e+00,   0.00000000e+00],\n",
       "        [ -1.38841737e-07,   0.00000000e+00,   0.00000000e+00],\n",
       "        [ -0.00000000e+00,   0.00000000e+00,   0.00000000e+00],\n",
       "        [ -1.84412629e-17,   3.01168678e-01,  -3.01168679e-05],\n",
       "        [ -1.13956540e-17,   1.86105156e-01,  -1.86105156e-05],\n",
       "        [ -3.30896412e-18,   5.40394864e-02,  -5.40394866e-06],\n",
       "        [ -6.19068603e-19,   1.01101580e-02,  -1.01101580e-06],\n",
       "        [ -8.50160375e-20,   1.38841736e-03,  -1.38841736e-07],\n",
       "        [  0.00000000e+00,  -0.00000000e+00,   0.00000000e+00],\n",
       "        [  0.00000000e+00,  -0.00000000e+00,   0.00000000e+00],\n",
       "        [ -3.72210312e-05,  -4.55826167e-21,   4.55826169e-25],\n",
       "        [ -2.70197432e-05,  -3.30896422e-21,   3.30896423e-25],\n",
       "        [ -9.09914215e-06,  -1.11432354e-21,   1.11432355e-25],\n",
       "        [ -1.94378428e-06,  -2.38044925e-22,   2.38044926e-26],\n",
       "        [  0.00000000e+00,   0.00000000e+00,  -0.00000000e+00],\n",
       "        [  0.00000000e+00,   0.00000000e+00,  -0.00000000e+00],\n",
       "        [  0.00000000e+00,   0.00000000e+00,  -0.00000000e+00],\n",
       "        [  7.44516951e-25,  -4.05296151e-09,   4.05296152e-13],\n",
       "        [  5.85019861e-25,  -3.18469980e-09,   3.18469981e-13],\n",
       "        [  2.14240432e-25,  -1.16627060e-09,   1.16627060e-13],\n",
       "        [  0.00000000e+00,   0.00000000e+00,   0.00000000e+00],\n",
       "        [  0.00000000e+00,   0.00000000e+00,   0.00000000e+00],\n",
       "        [  0.00000000e+00,   0.00000000e+00,   0.00000000e+00],\n",
       "        [  0.00000000e+00,   0.00000000e+00,   0.00000000e+00],\n",
       "        [  4.24626641e-13,   1.04003531e-28,  -1.04003532e-32],\n",
       "        [  3.49881180e-13,   8.56961736e-29,  -8.56961740e-33],\n",
       "        [ -0.00000000e+00,   0.00000000e+00,   0.00000000e+00],\n",
       "        [ -0.00000000e+00,   0.00000000e+00,   0.00000000e+00],\n",
       "        [ -0.00000000e+00,   0.00000000e+00,   0.00000000e+00],\n",
       "        [ -0.00000000e+00,   0.00000000e+00,   0.00000000e+00],\n",
       "        [ -0.00000000e+00,   0.00000000e+00,   0.00000000e+00],\n",
       "        [ -1.33900272e-32,   4.37351477e-17,  -4.37351479e-21]]),\n",
       " array([[  0.00000000e+00,   0.00000000e+00,   0.00000000e+00],\n",
       "        [  0.00000000e+00,   0.00000000e+00,   0.00000000e+00],\n",
       "        [  0.00000000e+00,   0.00000000e+00,   0.00000000e+00],\n",
       "        [  0.00000000e+00,   0.00000000e+00,   0.00000000e+00],\n",
       "        [  0.00000000e+00,   0.00000000e+00,   0.00000000e+00],\n",
       "        [  0.00000000e+00,   0.00000000e+00,   0.00000000e+00],\n",
       "        [  0.00000000e+00,   0.00000000e+00,   0.00000000e+00],\n",
       "        [ -3.01168678e-01,  -1.84412629e-17,   1.84412630e-21],\n",
       "        [ -1.86105154e-01,  -1.13956542e-17,   1.13956542e-21],\n",
       "        [ -5.40394851e-02,  -3.30896420e-18,   3.30896422e-22],\n",
       "        [ -1.01101575e-02,  -6.19068631e-19,   6.19068633e-23],\n",
       "        [ -1.38841726e-03,  -8.50160435e-20,   8.50160438e-24],\n",
       "        [ -0.00000000e+00,   0.00000000e+00,   0.00000000e+00],\n",
       "        [ -0.00000000e+00,   0.00000000e+00,   0.00000000e+00],\n",
       "        [  4.55826167e-21,  -3.72210312e-05,   3.72210313e-09],\n",
       "        [  3.30896420e-21,  -2.70197433e-05,   2.70197434e-09],\n",
       "        [  1.11432353e-21,  -9.09914226e-06,   9.09914229e-10],\n",
       "        [  2.38044920e-22,  -1.94378432e-06,   1.94378433e-10],\n",
       "        [  0.00000000e+00,  -0.00000000e+00,   0.00000000e+00],\n",
       "        [  0.00000000e+00,  -0.00000000e+00,   0.00000000e+00],\n",
       "        [  0.00000000e+00,  -0.00000000e+00,   0.00000000e+00],\n",
       "        [  4.05296151e-09,   7.44516951e-25,  -7.44516954e-29],\n",
       "        [  3.18469979e-09,   5.85019863e-25,  -5.85019865e-29],\n",
       "        [  1.16627059e-09,   2.14240433e-25,  -2.14240434e-29],\n",
       "        [  0.00000000e+00,   0.00000000e+00,  -0.00000000e+00],\n",
       "        [  0.00000000e+00,   0.00000000e+00,  -0.00000000e+00],\n",
       "        [  0.00000000e+00,   0.00000000e+00,  -0.00000000e+00],\n",
       "        [  0.00000000e+00,   0.00000000e+00,  -0.00000000e+00],\n",
       "        [ -1.04003531e-28,   4.24626641e-13,  -4.24626643e-17],\n",
       "        [ -8.56961734e-29,   3.49881181e-13,  -3.49881182e-17],\n",
       "        [  0.00000000e+00,   0.00000000e+00,   0.00000000e+00],\n",
       "        [  0.00000000e+00,   0.00000000e+00,   0.00000000e+00],\n",
       "        [  0.00000000e+00,   0.00000000e+00,   0.00000000e+00],\n",
       "        [  0.00000000e+00,   0.00000000e+00,   0.00000000e+00],\n",
       "        [  0.00000000e+00,   0.00000000e+00,   0.00000000e+00],\n",
       "        [ -4.37351477e-17,  -1.33900272e-32,   1.33900272e-36]]),\n",
       " array([[  0.00000000e+00,   0.00000000e+00,   0.00000000e+00],\n",
       "        [  0.00000000e+00,   6.20350520e-06,   6.02337357e-01],\n",
       "        [  0.00000000e+00,  -1.59085411e-05,   3.72210312e-01],\n",
       "        [  0.00000000e+00,  -1.02012880e-05,   1.08078973e-01],\n",
       "        [  0.00000000e+00,  -2.94048626e-06,   2.02203158e-02],\n",
       "        [  0.00000000e+00,  -5.44631550e-07,   2.77683467e-03],\n",
       "        [  0.00000000e+00,   0.00000000e+00,   0.00000000e+00],\n",
       "        [ -5.40302304e-01,  -3.30839744e-17,  -3.79855140e-22],\n",
       "        [ -5.31295723e-01,  -3.25324804e-17,  -3.58414447e-21],\n",
       "        [ -2.10091851e-01,  -1.28644156e-17,  -2.68431550e-21],\n",
       "        [ -4.96251783e-02,  -3.03866575e-18,  -9.34270690e-22],\n",
       "        [ -8.22315009e-03,  -5.03522707e-19,  -2.04695861e-22],\n",
       "        [  0.00000000e+00,   0.00000000e+00,  -0.00000000e+00],\n",
       "        [  0.00000000e+00,   0.00000000e+00,  -0.00000000e+00],\n",
       "        [  1.30129922e-20,  -1.06259145e-04,  -5.40394869e-10],\n",
       "        [  1.28644157e-20,  -1.05045926e-04,  -5.70725343e-09],\n",
       "        [  5.46959846e-21,  -4.46626608e-05,  -4.63287620e-09],\n",
       "        [  1.40986364e-21,  -1.15124102e-05,  -1.76443547e-09],\n",
       "        [  0.00000000e+00,   0.00000000e+00,   0.00000000e+00],\n",
       "        [  0.00000000e+00,   0.00000000e+00,   0.00000000e+00],\n",
       "        [  0.00000000e+00,   0.00000000e+00,   0.00000000e+00],\n",
       "        [  1.57568889e-08,   2.89449354e-24,   8.35742664e-30],\n",
       "        [  1.56319314e-08,   2.87153921e-24,   1.02859322e-28],\n",
       "        [  6.90744619e-09,   1.26887728e-24,   8.73527057e-29],\n",
       "        [  0.00000000e+00,   0.00000000e+00,   0.00000000e+00],\n",
       "        [  0.00000000e+00,   0.00000000e+00,   0.00000000e+00],\n",
       "        [  0.00000000e+00,   0.00000000e+00,   0.00000000e+00],\n",
       "        [  0.00000000e+00,   0.00000000e+00,   0.00000000e+00],\n",
       "        [ -5.10495860e-28,   2.08425752e-12,   3.88756869e-18],\n",
       "        [ -5.07550914e-28,   2.07223387e-12,   5.51874993e-17],\n",
       "        [  0.00000000e+00,   0.00000000e+00,   0.00000000e+00],\n",
       "        [  0.00000000e+00,   0.00000000e+00,   0.00000000e+00],\n",
       "        [  0.00000000e+00,   0.00000000e+00,   0.00000000e+00],\n",
       "        [  0.00000000e+00,   0.00000000e+00,   0.00000000e+00],\n",
       "        [  0.00000000e+00,   0.00000000e+00,   0.00000000e+00],\n",
       "        [ -2.59029234e-16,  -7.93048305e-32,  -1.03533246e-37]]),\n",
       " array([[  0.00000000e+00,   0.00000000e+00,   0.00000000e+00],\n",
       "        [  0.00000000e+00,   0.00000000e+00,   0.00000000e+00],\n",
       "        [  0.00000000e+00,   0.00000000e+00,   0.00000000e+00],\n",
       "        [  0.00000000e+00,   0.00000000e+00,   0.00000000e+00],\n",
       "        [  0.00000000e+00,   0.00000000e+00,   0.00000000e+00],\n",
       "        [  0.00000000e+00,   0.00000000e+00,   0.00000000e+00],\n",
       "        [  0.00000000e+00,   0.00000000e+00,   0.00000000e+00],\n",
       "        [  3.30839743e-17,  -5.40302304e-01,  -6.20350521e-06],\n",
       "        [  3.25324803e-17,  -5.31295724e-01,  -5.85335212e-05],\n",
       "        [  1.28644156e-17,  -2.10091850e-01,  -4.38381989e-05],\n",
       "        [  3.03866579e-18,  -4.96251776e-02,  -1.52577983e-05],\n",
       "        [  5.03522722e-19,  -8.22314985e-03,  -3.34293709e-06],\n",
       "        [  0.00000000e+00,   0.00000000e+00,   0.00000000e+00],\n",
       "        [  0.00000000e+00,   0.00000000e+00,   0.00000000e+00],\n",
       "        [  1.06259145e-04,   1.30129922e-20,   6.61792846e-26],\n",
       "        [  1.05045926e-04,   1.28644157e-20,   6.98936965e-25],\n",
       "        [  4.46626608e-05,   5.46959846e-21,   5.67363700e-25],\n",
       "        [  1.15124103e-05,   1.40986363e-21,   2.16081025e-25],\n",
       "        [  0.00000000e+00,   0.00000000e+00,  -0.00000000e+00],\n",
       "        [  0.00000000e+00,   0.00000000e+00,  -0.00000000e+00],\n",
       "        [  0.00000000e+00,   0.00000000e+00,  -0.00000000e+00],\n",
       "        [ -2.89449354e-24,   1.57568889e-08,   4.54957116e-14],\n",
       "        [ -2.87153920e-24,   1.56319314e-08,   5.59940067e-13],\n",
       "        [ -1.26887728e-24,   6.90744619e-09,   4.75525982e-13],\n",
       "        [  0.00000000e+00,   0.00000000e+00,   0.00000000e+00],\n",
       "        [  0.00000000e+00,   0.00000000e+00,   0.00000000e+00],\n",
       "        [  0.00000000e+00,   0.00000000e+00,   0.00000000e+00],\n",
       "        [  0.00000000e+00,   0.00000000e+00,   0.00000000e+00],\n",
       "        [ -2.08425752e-12,  -5.10495860e-28,  -9.52179711e-34],\n",
       "        [ -2.07223387e-12,  -5.07550914e-28,  -1.35170389e-32],\n",
       "        [  0.00000000e+00,   0.00000000e+00,   0.00000000e+00],\n",
       "        [  0.00000000e+00,   0.00000000e+00,   0.00000000e+00],\n",
       "        [  0.00000000e+00,   0.00000000e+00,   0.00000000e+00],\n",
       "        [  0.00000000e+00,   0.00000000e+00,   0.00000000e+00],\n",
       "        [  0.00000000e+00,   0.00000000e+00,   0.00000000e+00],\n",
       "        [  7.93048305e-32,  -2.59029234e-16,  -3.38165244e-22]]))"
      ]
     },
     "execution_count": 163,
     "metadata": {},
     "output_type": "execute_result"
    }
   ],
   "source": [
    "np.seterr(divide='raise')\n",
    "spherical_vector_waves(5, 1, np.array([0,0.0001,1]))\n"
   ]
  },
  {
   "cell_type": "code",
   "execution_count": 192,
   "metadata": {
    "collapsed": false
   },
   "outputs": [
    {
     "data": {
      "text/plain": [
       "(array([  3.32932410e-05 -3.32645044e-05j,\n",
       "          2.21947390e-08 -2.21904959e-08j,\n",
       "          6.34271967e-12 -6.34215531e-12j,\n",
       "          1.00694707e-15 -1.00689473e-15j,\n",
       "          1.01724244e-19 -1.01720765e-19j,\n",
       "          7.11424237e-24 -7.11406986e-24j,\n",
       "          3.64859316e-28 -3.64852711e-28j,\n",
       "          1.43090363e-32 -1.43088355e-32j,\n",
       "          4.43025173e-37 -4.43020209e-37j,   1.11038248e-41 -1.11037232e-41j]),\n",
       " array([  9.95181148e-03 -9.77028861e-03j,\n",
       "          2.07595419e-05 -2.21315032e-05j,\n",
       "          1.22930405e-08 -1.32750734e-08j,\n",
       "          3.32688931e-12 -3.61188208e-12j,\n",
       "          5.11879427e-16 -5.57365039e-16j,\n",
       "          5.06693984e-20 -5.52747621e-20j,\n",
       "          3.49335624e-24 -3.81577428e-24j,\n",
       "          1.77272437e-28 -1.93816153e-28j,\n",
       "          6.89576677e-33 -7.54472886e-33j,   2.12122207e-37 -2.32216744e-37j]))"
      ]
     },
     "execution_count": 192,
     "metadata": {},
     "output_type": "execute_result"
    }
   ],
   "source": [
    "mie_reflection_coefficients(a=50e-9, nmax=9, ε_m=1.1+0.1j, ε_b=1, ω=c/500e-9)"
   ]
  },
  {
   "cell_type": "code",
   "execution_count": 183,
   "metadata": {
    "collapsed": false
   },
   "outputs": [
    {
     "data": {
      "text/plain": [
       "(array([-0.18920062,  0.11611075,  0.27628369,  0.22924386,  0.12489307,\n",
       "         0.05176554]),\n",
       " array([-0.11611075, -0.247256  , -0.09110202,  0.04703983,  0.07312753,\n",
       "         0.04724476]))"
      ]
     },
     "execution_count": 183,
     "metadata": {},
     "output_type": "execute_result"
    }
   ],
   "source": [
    "sph_jn(5,4)"
   ]
  },
  {
   "cell_type": "code",
   "execution_count": 160,
   "metadata": {
    "collapsed": false
   },
   "outputs": [
    {
     "data": {
      "text/plain": [
       "(array([[ 1.,  1.,  1.,  1.,  1.,  1.],\n",
       "        [ 0.,  0.,  0.,  0.,  0.,  0.],\n",
       "        [ 0.,  0.,  0.,  0.,  0.,  0.],\n",
       "        [ 0.,  0.,  0.,  0.,  0.,  0.],\n",
       "        [ 0.,  0.,  0.,  0.,  0.,  0.],\n",
       "        [ 0.,  0.,  0.,  0.,  0.,  0.]]),\n",
       " array([[   0.,    1.,    3.,    6.,   10.,   15.],\n",
       "        [   0.,   inf,   inf,   inf,   inf,   inf],\n",
       "        [   0.,   -0.,   -6.,  -30.,  -90., -210.],\n",
       "        [   0.,    0.,    0.,    0.,    0.,    0.],\n",
       "        [   0.,    0.,    0.,    0.,    0.,    0.],\n",
       "        [   0.,    0.,    0.,    0.,    0.,    0.]]))"
      ]
     },
     "execution_count": 160,
     "metadata": {},
     "output_type": "execute_result"
    }
   ],
   "source": [
    "    # k is single scalar, r is single 3D vector\n",
    "    r.shape = (3) # FIXME do proper check\n",
    "    ρ = np.linalg.norm(r)\n",
    "    r̂ = r/ρ\n",
    "    cosθ = r̂[2]\n",
    "    sinθ = np.sqrt(1-cosθ*cosθ)\n",
    "    cosφ = r̂[0]/sinθ if sinθ else 0 # avoid zero division here\n",
    "    sinφ = r̂[1]/sinθ if sinθ else 1\n",
    "    φ = np.arctan2(sinφ,cosφ)\n",
    "    # TODO can those be views so I don't have to write the indices\n",
    "    # explicitly?\n",
    "    m = np.arange(nmax+1)\n",
    "    n = m\n",
    "    sinmφ = np.sin(m*φ)\n",
    "    cosmφ = np.cos(m*φ)\n",
    "    θ̂ = np.array([cosθ*cosφ,cosθ*sinφ,-sinθ])\n",
    "    φ̂ = np.array([-sinφ, cosφ, 0])\n",
    "    jnkr2 = sph_jn(nmax, k*ρ)\n",
    "    # scipy.special.lpmn is for real arguments (see also clpmn)\n",
    "    # + derivatives\n",
    "    # m's are non-negative, cf. Bohren&Huffman (4.23)\n",
    "    Pmn2 = lpmn(nmax, nmax, cosθ)\n",
    "    mdsinθ = m/(sinθ if sinθ else 1)\n",
    "    Npfac = jnkr2[0]/(k*ρ) + jnkr2[1]\n",
    "\n",
    "    Pmn2\n"
   ]
  },
  {
   "cell_type": "code",
   "execution_count": null,
   "metadata": {
    "collapsed": true
   },
   "outputs": [],
   "source": [
    "  # k is single scalar, r is single 3D vector\n",
    "    r.shape = (3) # FIXME do proper check\n",
    "    ρ = np.linalg.norm(r)\n",
    "    r̂ = r/ρ\n",
    "    cosθ = r̂[2]\n",
    "    sinθ = np.sqrt(1-cosθ*cosθ)\n",
    "    cosφ = r̂[0]/sinθ if sinθ else 0 # avoid zero division here\n",
    "    sinφ = r̂[1]/sinθ if sinθ else 1\n",
    "    φ = np.arctan2(sinφ,cosφ)\n",
    "    # TODO can those be views so I don't have to write the indices\n",
    "    # explicitly?\n",
    "    m = np.arange(nmax+1)\n",
    "    n = m\n",
    "    sinmφ = np.sin(m*φ)\n",
    "    cosmφ = np.cos(m*φ)\n",
    "    θ̂ = np.array([cosθ*cosφ,cosθ*sinφ,-sinθ])\n",
    "    φ̂ = np.array([-sinφ, cosφ, 0])\n",
    "    jnkr2 = sph_jn(nmax, k*ρ)\n",
    "    # scipy.special.lpmn is for real arguments (see also clpmn)\n",
    "    # + derivatives\n",
    "    # m's are non-negative, cf. Bohren&Huffman (4.23)\n",
    "    Pmn2 = lpmn(nmax, nmax, cosθ)\n",
    "    \n",
    "    # FIXME this is _wrong_ very near z axis – but it avoids nan \n",
    "    # and should give correct result exactly on z axis\n",
    "    mdsinθ = m/(sinθ if sinθ else 1)\n",
    "    \n",
    "    Memn = np.outer(-mdsinθ[:,nx] * jnkr2[0][nx,:] * \n",
    "         Pmn2[0] * sinmφ[:,nx], θ̂ ) + np.outer(\n",
    "         + sinθ * jnkr2[0][nx,:] * Pmn2[1] * cosmφ[:,nx], φ̂ )\n",
    "    Momn = np.outer(mdsinθ[:,nx] * jnkr2[0][nx,:] * \n",
    "         Pmn2[0] * cosmφ[:,nx], θ̂ ) + np.outer(\n",
    "         + sinθ * jnkr2[0][nx,:] * Pmn2[1] * sinmφ[:,nx], φ̂ )\n",
    "    Npfac = jnkr2[0]/(k*ρ) + jnkr2[1]\n",
    "    Nemn = np.outer(((n*(n+1)/(k*ρ))*jnkr2[0])[nx,:]\n",
    "         * Pmn2[0] * cosmφ[:,nx], r̂) + np.outer( Npfac[nx,:] *\n",
    "         (-sinθ) * Pmn2[1] * cosmφ[:,nx], θ̂  ) + np.outer(\n",
    "         Npfac[nx,:] * (-mdsinθ)[:,nx] * Pmn2[0] * sinmφ[:,nx], φ̂ )\n",
    "    Nomn = np.outer(((n*(n+1)/(k*ρ))*jnkr2[0])[nx,:]\n",
    "         * Pmn2[0] * sinmφ[:,nx], r̂) + np.outer( Npfac[nx,:] *\n",
    "         (-sinθ) * Pmn2[1] * sinmφ[:,nx], θ̂  ) + np.outer(\n",
    "         Npfac[nx,:] * mdsinθ[:,nx] * Pmn2[0] * cosmφ[:,nx], φ̂ )\n",
    "    return (Memn, Momn, Nemn, Nomn)"
   ]
  }
 ],
 "metadata": {
  "kernelspec": {
   "display_name": "Python 3",
   "language": "python",
   "name": "python3"
  },
  "language_info": {
   "codemirror_mode": {
    "name": "ipython",
    "version": 3
   },
   "file_extension": ".py",
   "mimetype": "text/x-python",
   "name": "python",
   "nbconvert_exporter": "python",
   "pygments_lexer": "ipython3",
   "version": "3.4.0"
  }
 },
 "nbformat": 4,
 "nbformat_minor": 0
}
