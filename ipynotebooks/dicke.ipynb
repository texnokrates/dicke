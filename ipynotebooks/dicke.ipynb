{
 "metadata": {
  "name": "",
  "signature": "sha256:ae444fa1c1c527d42ee813a6d9646575e1372f9e8da06c90ba4d9733583b2b4a"
 },
 "nbformat": 3,
 "nbformat_minor": 0,
 "worksheets": [
  {
   "cells": [
    {
     "cell_type": "code",
     "collapsed": false,
     "input": [
      "%matplotlib inline\n",
      "import matplotlib.pyplot as plt"
     ],
     "language": "python",
     "metadata": {},
     "outputs": [],
     "prompt_number": 25
    },
    {
     "cell_type": "code",
     "collapsed": false,
     "input": [
      "from scipy.misc import comb\n",
      "from itertools import combinations\n",
      "import scipy.constants\n",
      "from scipy.constants import epsilon_0, pi\n",
      "import numpy.matlib\n",
      "import numpy\n",
      "import numpy.linalg\n",
      "import numpy.random\n",
      "from sklearn.preprocessing import normalize\n",
      "\n",
      "debye=3.33564e-30\n",
      "eV = scipy.constants.e\n",
      "nm = 1e-9\n",
      "\n",
      "\n",
      "# N.B. here, n is ascending in the matrices, whereas in the text it is\n",
      "# descending.\n",
      "\n",
      "def ddim(K, tau):\n",
      "    if (tau >= K):\n",
      "        return 2**K\n",
      "    d = 0\n",
      "    for k in range(tau + 1):\n",
      "        d += comb(K, k, True)\n",
      "    return d\n",
      "   \n",
      "\n",
      "def i2n(i, K, tau):\n",
      "    \"\"\"Mapping between integers and bosonic excitation numbers.\n",
      "    \n",
      "    Returns the bosonic excitation number n, corresponding to the state\n",
      "    with the index i (described in i2c)...\n",
      "    \"\"\"\n",
      "    n = max(0, tau - K)\n",
      "    base = 0\n",
      "    nxt = comb(K, tau - n, True)\n",
      "    while (i >= nxt):\n",
      "        n += 1\n",
      "        base = nxt\n",
      "        nxt += comb(K, tau - n, True)\n",
      "        if (base == nxt):\n",
      "            print \"i2n(\",i,\",\",K,\",\",tau,\"): invalid argument\"\n",
      "            return None\n",
      "    return n\n",
      "\n",
      "\n",
      "def i2m(i, K, tau):\n",
      "    \"\"\"Mapping between integers and lists of excited atoms.\n",
      "    \n",
      "    Returns a list m of excited atoms in the state (n,m),\n",
      "    which is the i-th such state from the subspace with\n",
      "    K atoms and total excitation number tau, in lexicographic\n",
      "    order.\n",
      "    \n",
      "    The lowest possible i is 0.\n",
      "    \"\"\"\n",
      "    #The whole code deserves some dynamic approach\n",
      "    #determine atomic excitation number (tau - n)\n",
      "    n = max(0, tau - K)\n",
      "    base = 0\n",
      "    nxt = comb(K, tau - n, True)\n",
      "    while (i >= nxt):\n",
      "        n += 1\n",
      "        base = nxt\n",
      "        nxt += comb(K, tau - n, True)\n",
      "        if (base == nxt):\n",
      "            print \"i2m(\",i,\",\",K,\",\",tau,\"): invalid argument\"\n",
      "            return None\n",
      "    # generate the combinations\n",
      "    j = base\n",
      "    for m in combinations(range(1, K + 1), tau - n):\n",
      "        if (j == i):\n",
      "            return m\n",
      "        j += 1\n",
      "    raise\n",
      "    \n",
      "def i2nm(i, K, tau):\n",
      "    return (i2n(i, K, tau), i2m(i, K, tau))\n",
      "\n",
      "def nm2i(n, m, K):\n",
      "    \"\"\"Mapping excitation combinations to integer index.\"\"\"\n",
      "    m = tuple(sorted(m))\n",
      "    tau = len(m) + n\n",
      "    base = 0\n",
      "    for nn in range(max(0,tau - K), n):\n",
      "        base += comb(K, tau - nn, True)\n",
      "    i = base\n",
      "    for mm in combinations(range(1, K + 1), len(m)):\n",
      "        if(m == mm):\n",
      "            return i\n",
      "        else:\n",
      "            i += 1\n",
      "    else:\n",
      "        raise\n",
      "\n",
      "\n",
      "# in gs, the bigger index goes first!\n",
      "def dickeH(K=2, tau=1, omega=1., epsilons=1., Vs=0, gs=0):\n",
      "    \"\"\"Build the generalized extended Dicke Hamiltonian with\n",
      "    K atoms, restricted to the subspace of total excitation\n",
      "    number tau.\n",
      "    \n",
      "    TODO doc\n",
      "    \"\"\"\n",
      "    # The code is slow...\n",
      "    D = ddim(K, tau)\n",
      "    H = numpy.matlib.zeros((D, D))\n",
      "    if (isinstance(epsilons, int) or isinstance(epsilons, float)):\n",
      "        epsilons = [epsilons] * K\n",
      "    if (isinstance(Vs, int) or isinstance(Vs, float)):\n",
      "        Vs = [Vs] * K\n",
      "    if (isinstance(gs, int) or isinstance(gs, float)):\n",
      "        g = gs\n",
      "        gs = []\n",
      "        for j in range(K):\n",
      "            gs.append([g] * j)\n",
      "    \n",
      "    # set the diagonal elements\n",
      "    for i in range(D):\n",
      "        n = i2n(i, K, tau)\n",
      "        m = i2m(i, K, tau)\n",
      "        setm = set(m)\n",
      "        for atom in range(1,K+1):\n",
      "            H[i,i] += ((atom in setm) - 0.5) * epsilons[atom-1]\n",
      "        H[i,i] += n * omega\n",
      "        \n",
      "    # set the nondiagonal elements\n",
      "    for i in range(D):        \n",
      "        n = i2n(i, K, tau)\n",
      "        m = i2m(i, K, tau)\n",
      "        setm = set(m)\n",
      "        if n < tau:\n",
      "            for atom in m:\n",
      "                mm = list(m)\n",
      "                mm.remove(atom)\n",
      "                nn = n + 1\n",
      "                ii = nm2i(nn, mm, K)\n",
      "                # Check this\n",
      "                H[i,ii] += numpy.sqrt(n + 1) * Vs[atom - 1]\n",
      "                H[ii,i] += numpy.sqrt(n + 1) * Vs[atom - 1]\n",
      "                # Now we generate all acceptable combinations with another\n",
      "                # atom instead\n",
      "                otheratoms = set(range(1,atom)) - set(m)\n",
      "                for otheratom in otheratoms:\n",
      "                    mmm = mm\n",
      "                    mmm.append(otheratom)\n",
      "                    mmm.sort()\n",
      "                    ii = nm2i(n, mmm, K)\n",
      "                    H[i,ii] += gs[atom - 1][otheratom - 1]\n",
      "                    H[ii,i] += gs[atom - 1][otheratom - 1]\n",
      "    return H\n",
      "\n",
      "def randomPositionBox(K=10, x=10*nm, y=10*nm, z=5*nm):\n",
      "    return numpy.random.rand(K, 3) * numpy.array([x,y,z])\n",
      "\n",
      "def randomUnitVectors(K=10):\n",
      "    return normalize(numpy.random.randn(K, 3), axis=1, norm='l2')\n",
      "\n",
      "def dipoleCouplings(K=10, positions=randomPositionBox(), directions=randomUnitVectors(), mu = 2*debye):\n",
      "    epsilon_0 = scipy.constants.epsilon_0\n",
      "    #TODO parameter units\n",
      "    #TODO split the function to have the position/direction generation extra\n",
      "    #(thus making it available for plotting etc.)\n",
      "    gs = []\n",
      "    for i in range(K):\n",
      "        pos1 = positions[i]\n",
      "        dir1 = directions[i]\n",
      "        gline = []\n",
      "        for j in range(i):\n",
      "            pos2 = positions[j]\n",
      "            dir2 = directions[j]\n",
      "            rv = pos2 - pos1\n",
      "            r = numpy.linalg.norm(rv)\n",
      "            V = numpy.dot(dir1, dir2) - 3 * numpy.dot(dir1, rv) * numpy.dot(dir2, rv) / r**2\n",
      "            V *= mu**2 / (4 * pi * epsilon_0 * r**3)\n",
      "            gline.append(V)\n",
      "        gs.append(gline)\n",
      "    return gs\n"
     ],
     "language": "python",
     "metadata": {},
     "outputs": [],
     "prompt_number": 22
    },
    {
     "cell_type": "code",
     "collapsed": false,
     "input": [
      "H = dickeH(K=3,tau=1,omega=2.5,epsilons=2.6,Vs=0.05)\n",
      "print H\n",
      "print numpy.linalg.eigvalsh(H)"
     ],
     "language": "python",
     "metadata": {},
     "outputs": [
      {
       "output_type": "stream",
       "stream": "stdout",
       "text": [
        "[[-1.3   0.    0.    0.05]\n",
        " [ 0.   -1.3   0.    0.05]\n",
        " [ 0.    0.   -1.3   0.05]\n",
        " [ 0.05  0.05  0.05 -1.4 ]]\n",
        "[-1.45 -1.3  -1.3  -1.25]"
       ]
      },
      {
       "output_type": "stream",
       "stream": "stdout",
       "text": [
        "\n"
       ]
      }
     ],
     "prompt_number": 23
    },
    {
     "cell_type": "code",
     "collapsed": false,
     "input": [
      "def lrange(start,stop,stepcount):\n",
      "    l  = []\n",
      "    val = start\n",
      "    step = float(stop - start) / stepcount\n",
      "    while (val <= stop):\n",
      "        l.append(val)\n",
      "        val += step\n",
      "    return l\n",
      "\n",
      "def dicke_tryparams(K=2, tau=1, start=2.21, stop=3, \n",
      "                    epsilons=2.6, Vs=0.26, gs=0):\n",
      "    omegalist = lrange(start, stop, 50)\n",
      "    eiglist = []\n",
      "    for om in omegalist:\n",
      "        H = dickeH(K=K,tau=tau,epsilons=epsilons,omega=om, Vs=Vs, gs=gs)\n",
      "        eiglist.append(numpy.linalg.eigvalsh(H))\n",
      "    \n",
      "    plt.plot(omegalist, eiglist)\n",
      "    plt.xlabel('$\\omega$')\n",
      "    plt.ylabel('$E$')\n",
      "    \n",
      "    \n",
      "# N. B. the following expects input in SI units\n",
      "def randomBox_tryparams(K=20, tau=1, x=5*nm, y=5*nm, z=3*nm, mu=2*debye,\n",
      "                        start=2.21*eV, stop=3*eV,\n",
      "                        epsilons=2.6*eV, Vs=0.1*eV):\n",
      "    dirs = randomUnitVectors(K)\n",
      "    pos = randomPositionBox(K=K,x=x,y=y,z=z)\n",
      "    gs = dipoleCouplings(K, pos, dirs, mu)\n",
      "    \n",
      "    omegalist = lrange(start, stop, 50)\n",
      "    eiglist = []\n",
      "    for om in omegalist:\n",
      "        H = dickeH(K=K,tau=tau,epsilons=epsilons,omega=om, Vs=Vs, gs=gs)\n",
      "        eiglist.append(numpy.linalg.eigvalsh(H))\n",
      "    for i in range(len(omegalist)):\n",
      "        omegalist[i] /= eV\n",
      "        eiglist[i] /= eV\n",
      "    plt.plot(omegalist, eiglist)\n",
      "    plt.xlabel('$\\omega/\\mathrm{eV}$')\n",
      "    plt.ylabel('$E/\\mathrm{eV}$')\n",
      "    "
     ],
     "language": "python",
     "metadata": {},
     "outputs": [],
     "prompt_number": 67
    },
    {
     "cell_type": "code",
     "collapsed": false,
     "input": [
      "dicke_tryparams()"
     ],
     "language": "python",
     "metadata": {},
     "outputs": [
      {
       "metadata": {},
       "output_type": "display_data",
       "png": "[encoded data removed]",
       "text": [
        "<matplotlib.figure.Figure at 0x7f14a448b0d0>"
       ]
      }
     ],
     "prompt_number": 5
    },
    {
     "cell_type": "code",
     "collapsed": false,
     "input": [
      "dicke_tryparams(K=3, gs=0.03, Vs=0.02, epsilons=[2.6,2.35,2.4])"
     ],
     "language": "python",
     "metadata": {},
     "outputs": [
      {
       "metadata": {},
       "output_type": "display_data",
       "png": "[encoded data removed]",
       "text": [
        "<matplotlib.figure.Figure at 0x7f5bf7afc150>"
       ]
      }
     ],
     "prompt_number": 64
    },
    {
     "cell_type": "code",
     "collapsed": false,
     "input": [
      "dicke_tryparams(K=3, tau=2, gs=0.01, Vs=[0.11,0.11,0.11], epsilons=[2.6,2.6,2.6])"
     ],
     "language": "python",
     "metadata": {},
     "outputs": [
      {
       "metadata": {},
       "output_type": "display_data",
       "png": "[encoded data removed]",
       "text": [
        "<matplotlib.figure.Figure at 0x7f5bf74d38d0>"
       ]
      }
     ],
     "prompt_number": 80
    },
    {
     "cell_type": "code",
     "collapsed": false,
     "input": [
      "dicke_tryparams(K=7, tau=2, gs=0.01, Vs=0.11, epsilons=2.6)"
     ],
     "language": "python",
     "metadata": {},
     "outputs": [
      {
       "ename": "IndexError",
       "evalue": "index 35 is out of bounds for axis 1 with size 29",
       "output_type": "pyerr",
       "traceback": [
        "\u001b[0;31m---------------------------------------------------------------------------\u001b[0m\n\u001b[0;31mIndexError\u001b[0m                                Traceback (most recent call last)",
        "\u001b[0;32m<ipython-input-60-aeb86b74cc5f>\u001b[0m in \u001b[0;36m<module>\u001b[0;34m()\u001b[0m\n\u001b[0;32m----> 1\u001b[0;31m \u001b[0mdicke_tryparams\u001b[0m\u001b[0;34m(\u001b[0m\u001b[0mK\u001b[0m\u001b[0;34m=\u001b[0m\u001b[0;36m7\u001b[0m\u001b[0;34m,\u001b[0m \u001b[0mtau\u001b[0m\u001b[0;34m=\u001b[0m\u001b[0;36m2\u001b[0m\u001b[0;34m,\u001b[0m \u001b[0mgs\u001b[0m\u001b[0;34m=\u001b[0m\u001b[0;36m0.01\u001b[0m\u001b[0;34m,\u001b[0m \u001b[0mVs\u001b[0m\u001b[0;34m=\u001b[0m\u001b[0;36m0.11\u001b[0m\u001b[0;34m,\u001b[0m \u001b[0mepsilons\u001b[0m\u001b[0;34m=\u001b[0m\u001b[0;36m2.6\u001b[0m\u001b[0;34m)\u001b[0m\u001b[0;34m\u001b[0m\u001b[0m\n\u001b[0m",
        "\u001b[0;32m<ipython-input-21-aa792375adcc>\u001b[0m in \u001b[0;36mdicke_tryparams\u001b[0;34m(K, tau, start, stop, epsilons, Vs, gs)\u001b[0m\n\u001b[1;32m     13\u001b[0m     \u001b[0meiglist\u001b[0m \u001b[0;34m=\u001b[0m \u001b[0;34m[\u001b[0m\u001b[0;34m]\u001b[0m\u001b[0;34m\u001b[0m\u001b[0m\n\u001b[1;32m     14\u001b[0m     \u001b[0;32mfor\u001b[0m \u001b[0mom\u001b[0m \u001b[0;32min\u001b[0m \u001b[0momegalist\u001b[0m\u001b[0;34m:\u001b[0m\u001b[0;34m\u001b[0m\u001b[0m\n\u001b[0;32m---> 15\u001b[0;31m         \u001b[0mH\u001b[0m \u001b[0;34m=\u001b[0m \u001b[0mdickeH\u001b[0m\u001b[0;34m(\u001b[0m\u001b[0mK\u001b[0m\u001b[0;34m=\u001b[0m\u001b[0mK\u001b[0m\u001b[0;34m,\u001b[0m\u001b[0mtau\u001b[0m\u001b[0;34m=\u001b[0m\u001b[0mtau\u001b[0m\u001b[0;34m,\u001b[0m\u001b[0mepsilons\u001b[0m\u001b[0;34m=\u001b[0m\u001b[0mepsilons\u001b[0m\u001b[0;34m,\u001b[0m\u001b[0momega\u001b[0m\u001b[0;34m=\u001b[0m\u001b[0mom\u001b[0m\u001b[0;34m,\u001b[0m \u001b[0mVs\u001b[0m\u001b[0;34m=\u001b[0m\u001b[0mVs\u001b[0m\u001b[0;34m,\u001b[0m \u001b[0mgs\u001b[0m\u001b[0;34m=\u001b[0m\u001b[0mgs\u001b[0m\u001b[0;34m)\u001b[0m\u001b[0;34m\u001b[0m\u001b[0m\n\u001b[0m\u001b[1;32m     16\u001b[0m         \u001b[0meiglist\u001b[0m\u001b[0;34m.\u001b[0m\u001b[0mappend\u001b[0m\u001b[0;34m(\u001b[0m\u001b[0mnumpy\u001b[0m\u001b[0;34m.\u001b[0m\u001b[0mlinalg\u001b[0m\u001b[0;34m.\u001b[0m\u001b[0meigvalsh\u001b[0m\u001b[0;34m(\u001b[0m\u001b[0mH\u001b[0m\u001b[0;34m)\u001b[0m\u001b[0;34m)\u001b[0m\u001b[0;34m\u001b[0m\u001b[0m\n\u001b[1;32m     17\u001b[0m \u001b[0;34m\u001b[0m\u001b[0m\n",
        "\u001b[0;32m<ipython-input-22-68d25ae9fda9>\u001b[0m in \u001b[0;36mdickeH\u001b[0;34m(K, tau, omega, epsilons, Vs, gs)\u001b[0m\n\u001b[1;32m    147\u001b[0m                     \u001b[0mmmm\u001b[0m\u001b[0;34m.\u001b[0m\u001b[0msort\u001b[0m\u001b[0;34m(\u001b[0m\u001b[0;34m)\u001b[0m\u001b[0;34m\u001b[0m\u001b[0m\n\u001b[1;32m    148\u001b[0m                     \u001b[0mii\u001b[0m \u001b[0;34m=\u001b[0m \u001b[0mnm2i\u001b[0m\u001b[0;34m(\u001b[0m\u001b[0mn\u001b[0m\u001b[0;34m,\u001b[0m \u001b[0mmmm\u001b[0m\u001b[0;34m,\u001b[0m \u001b[0mK\u001b[0m\u001b[0;34m)\u001b[0m\u001b[0;34m\u001b[0m\u001b[0m\n\u001b[0;32m--> 149\u001b[0;31m                     \u001b[0mH\u001b[0m\u001b[0;34m[\u001b[0m\u001b[0mi\u001b[0m\u001b[0;34m,\u001b[0m\u001b[0mii\u001b[0m\u001b[0;34m]\u001b[0m \u001b[0;34m+=\u001b[0m \u001b[0mgs\u001b[0m\u001b[0;34m[\u001b[0m\u001b[0matom\u001b[0m \u001b[0;34m-\u001b[0m \u001b[0;36m1\u001b[0m\u001b[0;34m]\u001b[0m\u001b[0;34m[\u001b[0m\u001b[0motheratom\u001b[0m \u001b[0;34m-\u001b[0m \u001b[0;36m1\u001b[0m\u001b[0;34m]\u001b[0m\u001b[0;34m\u001b[0m\u001b[0m\n\u001b[0m\u001b[1;32m    150\u001b[0m                     \u001b[0mH\u001b[0m\u001b[0;34m[\u001b[0m\u001b[0mii\u001b[0m\u001b[0;34m,\u001b[0m\u001b[0mi\u001b[0m\u001b[0;34m]\u001b[0m \u001b[0;34m+=\u001b[0m \u001b[0mgs\u001b[0m\u001b[0;34m[\u001b[0m\u001b[0matom\u001b[0m \u001b[0;34m-\u001b[0m \u001b[0;36m1\u001b[0m\u001b[0;34m]\u001b[0m\u001b[0;34m[\u001b[0m\u001b[0motheratom\u001b[0m \u001b[0;34m-\u001b[0m \u001b[0;36m1\u001b[0m\u001b[0;34m]\u001b[0m\u001b[0;34m\u001b[0m\u001b[0m\n\u001b[1;32m    151\u001b[0m     \u001b[0;32mreturn\u001b[0m \u001b[0mH\u001b[0m\u001b[0;34m\u001b[0m\u001b[0m\n",
        "\u001b[0;32m/usr/lib/python2.7/dist-packages/numpy/matrixlib/defmatrix.pyc\u001b[0m in \u001b[0;36m__getitem__\u001b[0;34m(self, index)\u001b[0m\n\u001b[1;32m    314\u001b[0m \u001b[0;34m\u001b[0m\u001b[0m\n\u001b[1;32m    315\u001b[0m         \u001b[0;32mtry\u001b[0m\u001b[0;34m:\u001b[0m\u001b[0;34m\u001b[0m\u001b[0m\n\u001b[0;32m--> 316\u001b[0;31m             \u001b[0mout\u001b[0m \u001b[0;34m=\u001b[0m \u001b[0mN\u001b[0m\u001b[0;34m.\u001b[0m\u001b[0mndarray\u001b[0m\u001b[0;34m.\u001b[0m\u001b[0m__getitem__\u001b[0m\u001b[0;34m(\u001b[0m\u001b[0mself\u001b[0m\u001b[0;34m,\u001b[0m \u001b[0mindex\u001b[0m\u001b[0;34m)\u001b[0m\u001b[0;34m\u001b[0m\u001b[0m\n\u001b[0m\u001b[1;32m    317\u001b[0m         \u001b[0;32mfinally\u001b[0m\u001b[0;34m:\u001b[0m\u001b[0;34m\u001b[0m\u001b[0m\n\u001b[1;32m    318\u001b[0m             \u001b[0mself\u001b[0m\u001b[0;34m.\u001b[0m\u001b[0m_getitem\u001b[0m \u001b[0;34m=\u001b[0m \u001b[0mFalse\u001b[0m\u001b[0;34m\u001b[0m\u001b[0m\n",
        "\u001b[0;31mIndexError\u001b[0m: index 35 is out of bounds for axis 1 with size 29"
       ]
      }
     ],
     "prompt_number": 60
    },
    {
     "cell_type": "code",
     "collapsed": false,
     "input": [
      "dicke_tryparams(K=30, gs=0.003, Vs=0.02, epsilons=2.6)"
     ],
     "language": "python",
     "metadata": {},
     "outputs": [
      {
       "metadata": {},
       "output_type": "display_data",
       "png": "[encoded data removed]",
       "text": [
        "<matplotlib.figure.Figure at 0x7f5bf6eda5d0>"
       ]
      }
     ],
     "prompt_number": 68
    },
    {
     "cell_type": "markdown",
     "metadata": {},
     "source": [
      "Eigenvectors and darkness\n",
      "========================="
     ]
    },
    {
     "cell_type": "code",
     "collapsed": false,
     "input": [
      "H = dickeH(K=2,tau=1,omega=2.5,epsilons=2.6,Vs=0.26)\n",
      "print H\n",
      "v,w = numpy.linalg.eig(H)\n",
      "w"
     ],
     "language": "python",
     "metadata": {},
     "outputs": [
      {
       "output_type": "stream",
       "stream": "stdout",
       "text": [
        "[[ 0.    0.    0.26]\n",
        " [ 0.    0.    0.26]\n",
        " [ 0.26  0.26 -0.1 ]]\n"
       ]
      },
      {
       "metadata": {},
       "output_type": "pyout",
       "prompt_number": 9,
       "text": [
        "matrix([[  4.65096223e-01,  -7.07106781e-01,  -5.32621351e-01],\n",
        "        [  4.65096223e-01,   7.07106781e-01,  -5.32621351e-01],\n",
        "        [ -7.53240338e-01,   3.00915507e-16,  -6.57745386e-01]])"
       ]
      }
     ],
     "prompt_number": 9
    },
    {
     "cell_type": "code",
     "collapsed": false,
     "input": [
      "H = dickeH(K=2,tau=1,omega=2.5,epsilons=2.6,Vs=0.26,gs=0.05)\n",
      "print H\n",
      "v,w = numpy.linalg.eig(H)\n",
      "v,w"
     ],
     "language": "python",
     "metadata": {},
     "outputs": [
      {
       "output_type": "stream",
       "stream": "stdout",
       "text": [
        "[[ 0.    0.05  0.26]\n",
        " [ 0.05  0.    0.26]\n",
        " [ 0.26  0.26 -0.1 ]]\n"
       ]
      },
      {
       "metadata": {},
       "output_type": "pyout",
       "prompt_number": 14,
       "text": [
        "(array([ 0.35026657, -0.05      , -0.40026657]),\n",
        " matrix([[ -5.47690133e-01,  -7.07106781e-01,  -4.47253304e-01],\n",
        "         [ -5.47690133e-01,   7.07106781e-01,  -4.47253304e-01],\n",
        "         [ -6.32511688e-01,   1.71748892e-16,   7.74550815e-01]]))"
       ]
      }
     ],
     "prompt_number": 14
    },
    {
     "cell_type": "markdown",
     "metadata": {},
     "source": [
      "Now we break the symmetry a bit...\n",
      "-----------"
     ]
    },
    {
     "cell_type": "code",
     "collapsed": false,
     "input": [
      "H = dickeH(K=2,tau=1,omega=2.6,epsilons=2.6,Vs=[0.26,0.28],gs=0.05)\n",
      "print H\n",
      "v,w = numpy.linalg.eig(H)\n",
      "v,w"
     ],
     "language": "python",
     "metadata": {},
     "outputs": [
      {
       "output_type": "stream",
       "stream": "stdout",
       "text": [
        "[[ 0.    0.05  0.26]\n",
        " [ 0.05  0.    0.28]\n",
        " [ 0.26  0.28  0.  ]]\n"
       ]
      },
      {
       "metadata": {},
       "output_type": "pyout",
       "prompt_number": 24,
       "text": [
        "(array([ 0.4078594 , -0.04985818, -0.35800122]),\n",
        " matrix([[-0.50089016, -0.73364578, -0.45920901],\n",
        "         [-0.53075406,  0.67945821, -0.5065932 ],\n",
        "         [-0.6836733 ,  0.0100205 ,  0.72971941]]))"
       ]
      }
     ],
     "prompt_number": 24
    },
    {
     "cell_type": "code",
     "collapsed": false,
     "input": [
      "dicke_tryparams(K=2,tau=1,epsilons=2.6,Vs=[0.26,0.28],gs=0.05)"
     ],
     "language": "python",
     "metadata": {},
     "outputs": [
      {
       "metadata": {},
       "output_type": "display_data",
       "png": "[encoded data removed]",
       "text": [
        "<matplotlib.figure.Figure at 0x7f149758b590>"
       ]
      }
     ],
     "prompt_number": 21
    },
    {
     "cell_type": "markdown",
     "metadata": {},
     "source": [
      "Not a *big* difference, but the eigenvector changes, and the middle line *is not* dispersionless (although not evident from the figure)."
     ]
    },
    {
     "cell_type": "markdown",
     "metadata": {},
     "source": [
      "# Randomly filled box model"
     ]
    },
    {
     "cell_type": "code",
     "collapsed": false,
     "input": [
      "randomBox_tryparams(K=7,x=2*nm, y=2*nm, z=2*nm, tau=1, Vs=0.1*eV, mu=10*debye)"
     ],
     "language": "python",
     "metadata": {},
     "outputs": [
      {
       "metadata": {},
       "output_type": "display_data",
       "png": "[encoded data removed]",
       "text": [
        "<matplotlib.figure.Figure at 0x7f4772b9f6d0>"
       ]
      }
     ],
     "prompt_number": 72
    },
    {
     "cell_type": "markdown",
     "metadata": {},
     "source": [
      "Note that there are at most 5 eigenvalues for $\\tau=1$. Let us consider different couplings to the boson mode."
     ]
    },
    {
     "cell_type": "code",
     "collapsed": false,
     "input": [],
     "language": "python",
     "metadata": {},
     "outputs": []
    }
   ],
   "metadata": {}
  }
 ]
}